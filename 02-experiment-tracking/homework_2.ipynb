{
 "cells": [
  {
   "cell_type": "code",
   "execution_count": 1,
   "id": "2cfe4c61-37dd-46bb-9317-0baf4aa09591",
   "metadata": {},
   "outputs": [
    {
     "name": "stdout",
     "output_type": "stream",
     "text": [
      "Python 3.11.7\n"
     ]
    }
   ],
   "source": [
    "!python -V"
   ]
  },
  {
   "cell_type": "code",
   "execution_count": 64,
   "id": "2de8f744-26ff-47eb-9895-0b9d65de3b39",
   "metadata": {},
   "outputs": [],
   "source": [
    "import pandas as pd\n",
    "import pickle\n",
    "import seaborn as sns\n",
    "import matplotlib.pyplot as plt\n",
    "import mlflow\n",
    "\n",
    "from sklearn.feature_extraction import DictVectorizer\n",
    "from sklearn.linear_model import LinearRegression\n",
    "from sklearn.linear_model import Lasso\n",
    "from sklearn.linear_model import Ridge\n",
    "from sklearn.metrics import mean_squared_error, root_mean_squared_error\n",
    "from mlflow import MlflowClient\n",
    "from mlflow.entities import ViewType\n",
    "\n",
    "TRACKING_URI = \"sqlite:///mlflow.db\""
   ]
  },
  {
   "cell_type": "markdown",
   "id": "8c8c67d5-6005-4527-ac74-13263ae3f319",
   "metadata": {},
   "source": [
    "## Q1. Install MLflow"
   ]
  },
  {
   "cell_type": "code",
   "execution_count": 159,
   "id": "6595266b-d08c-45cb-9f8c-a20c09878da6",
   "metadata": {},
   "outputs": [
    {
     "name": "stdout",
     "output_type": "stream",
     "text": [
      "mlflow, version 2.13.0\n"
     ]
    }
   ],
   "source": [
    "!mlflow --version"
   ]
  },
  {
   "cell_type": "markdown",
   "id": "2e6af3b1-489f-4abc-acbe-ada841fce574",
   "metadata": {},
   "source": [
    "## Q2. Download and preprocess the data"
   ]
  },
  {
   "cell_type": "code",
   "execution_count": 11,
   "id": "e203f3fd-c52f-483e-b90e-30f9a23bb2fb",
   "metadata": {
    "scrolled": true
   },
   "outputs": [
    {
     "name": "stdout",
     "output_type": "stream",
     "text": [
      "/workspaces/mlops-zoomcamp/02-experiment-tracking\n"
     ]
    }
   ],
   "source": [
    "!pwd"
   ]
  },
  {
   "cell_type": "code",
   "execution_count": 12,
   "id": "0033e8c6-bc1d-4029-b435-e4dfb0479c42",
   "metadata": {},
   "outputs": [],
   "source": [
    "!mkdir data"
   ]
  },
  {
   "cell_type": "code",
   "execution_count": 13,
   "id": "888fa2b5-7b01-46af-bee2-24d2ee48127a",
   "metadata": {},
   "outputs": [
    {
     "name": "stdout",
     "output_type": "stream",
     "text": [
      "data  homework_2.ipynb\tmlflow.db  mlruns\n"
     ]
    }
   ],
   "source": [
    "!ls"
   ]
  },
  {
   "cell_type": "code",
   "execution_count": 27,
   "id": "79731b40-6dce-4e8b-8820-35c2fde73258",
   "metadata": {},
   "outputs": [
    {
     "name": "stdout",
     "output_type": "stream",
     "text": [
      "--2024-05-27 13:34:50--  https://d37ci6vzurychx.cloudfront.net/trip-data/green_tripdata_2023-01.parquet\n",
      "Resolving d37ci6vzurychx.cloudfront.net (d37ci6vzurychx.cloudfront.net)... 13.32.192.116, 13.32.192.190, 13.32.192.124, ...\n",
      "Connecting to d37ci6vzurychx.cloudfront.net (d37ci6vzurychx.cloudfront.net)|13.32.192.116|:443... connected.\n",
      "HTTP request sent, awaiting response... 200 OK\n",
      "Length: 1427002 (1.4M) [binary/octet-stream]\n",
      "Saving to: ‘green_tripdata_2023-01.parquet’\n",
      "\n",
      "green_tripdata_2023 100%[===================>]   1.36M  --.-KB/s    in 0.03s   \n",
      "\n",
      "2024-05-27 13:34:50 (45.4 MB/s) - ‘green_tripdata_2023-01.parquet’ saved [1427002/1427002]\n",
      "\n",
      "--2024-05-27 13:34:50--  https://d37ci6vzurychx.cloudfront.net/trip-data/green_tripdata_2023-02.parquet\n",
      "Resolving d37ci6vzurychx.cloudfront.net (d37ci6vzurychx.cloudfront.net)... 13.32.192.124, 13.32.192.116, 13.32.192.190, ...\n",
      "Connecting to d37ci6vzurychx.cloudfront.net (d37ci6vzurychx.cloudfront.net)|13.32.192.124|:443... connected.\n",
      "HTTP request sent, awaiting response... 200 OK\n",
      "Length: 1533740 (1.5M) [binary/octet-stream]\n",
      "Saving to: ‘green_tripdata_2023-02.parquet’\n",
      "\n",
      "green_tripdata_2023 100%[===================>]   1.46M  --.-KB/s    in 0.03s   \n",
      "\n",
      "2024-05-27 13:34:50 (46.9 MB/s) - ‘green_tripdata_2023-02.parquet’ saved [1533740/1533740]\n",
      "\n",
      "--2024-05-27 13:34:50--  https://d37ci6vzurychx.cloudfront.net/trip-data/green_tripdata_2023-03.parquet\n",
      "Resolving d37ci6vzurychx.cloudfront.net (d37ci6vzurychx.cloudfront.net)... 13.32.192.190, 13.32.192.116, 13.32.192.2, ...\n",
      "Connecting to d37ci6vzurychx.cloudfront.net (d37ci6vzurychx.cloudfront.net)|13.32.192.190|:443... connected.\n",
      "HTTP request sent, awaiting response... 200 OK\n",
      "Length: 1730999 (1.7M) [binary/octet-stream]\n",
      "Saving to: ‘green_tripdata_2023-03.parquet’\n",
      "\n",
      "green_tripdata_2023 100%[===================>]   1.65M  --.-KB/s    in 0.03s   \n",
      "\n",
      "2024-05-27 13:34:50 (52.3 MB/s) - ‘green_tripdata_2023-03.parquet’ saved [1730999/1730999]\n",
      "\n"
     ]
    }
   ],
   "source": [
    "!wget https://d37ci6vzurychx.cloudfront.net/trip-data/green_tripdata_2023-01.parquet\n",
    "!wget https://d37ci6vzurychx.cloudfront.net/trip-data/green_tripdata_2023-02.parquet\n",
    "!wget https://d37ci6vzurychx.cloudfront.net/trip-data/green_tripdata_2023-03.parquet"
   ]
  },
  {
   "cell_type": "code",
   "execution_count": 28,
   "id": "2414e571-d1f2-4999-9269-7abef8f3ef71",
   "metadata": {},
   "outputs": [
    {
     "name": "stdout",
     "output_type": "stream",
     "text": [
      "data\t\t\t\tgreen_tripdata_2023-03.parquet\tmlruns\n",
      "green_tripdata_2023-01.parquet\thomework_2.ipynb\n",
      "green_tripdata_2023-02.parquet\tmlflow.db\n"
     ]
    }
   ],
   "source": [
    "!ls"
   ]
  },
  {
   "cell_type": "code",
   "execution_count": 31,
   "id": "f22ddf24-109f-497a-ab79-13d48e96151b",
   "metadata": {},
   "outputs": [],
   "source": [
    "! mv green_tripdata_2023-01.parquet data/\n",
    "! mv green_tripdata_2023-02.parquet data/\n",
    "! mv green_tripdata_2023-03.parquet data/"
   ]
  },
  {
   "cell_type": "code",
   "execution_count": 35,
   "id": "760e7919-3752-416e-bc45-18693600c0bc",
   "metadata": {
    "scrolled": true
   },
   "outputs": [
    {
     "name": "stdout",
     "output_type": "stream",
     "text": [
      "total 4588\n",
      "-rw-rw-rw- 1 codespace codespace 1427002 Mar 20  2023 green_tripdata_2023-01.parquet\n",
      "-rw-rw-rw- 1 codespace codespace 1533740 May  1  2023 green_tripdata_2023-02.parquet\n",
      "-rw-rw-rw- 1 codespace codespace 1730999 May 19  2023 green_tripdata_2023-03.parquet\n"
     ]
    }
   ],
   "source": [
    "!ls -l data/"
   ]
  },
  {
   "cell_type": "code",
   "execution_count": 55,
   "id": "f7f0a995-71d8-4e97-879b-b27614df2eae",
   "metadata": {},
   "outputs": [
    {
     "name": "stdout",
     "output_type": "stream",
     "text": [
      "--2024-05-27 14:05:50--  https://raw.githubusercontent.com/DataTalksClub/mlops-zoomcamp/main/cohorts/2024/02-experiment-tracking/homework/preprocess_data.py\n",
      "Resolving raw.githubusercontent.com (raw.githubusercontent.com)... 185.199.110.133, 185.199.111.133, 185.199.109.133, ...\n",
      "Connecting to raw.githubusercontent.com (raw.githubusercontent.com)|185.199.110.133|:443... connected.\n",
      "HTTP request sent, awaiting response... 200 OK\n",
      "Length: 2510 (2.5K) [text/plain]\n",
      "Saving to: ‘preprocess_data.py’\n",
      "\n",
      "preprocess_data.py  100%[===================>]   2.45K  --.-KB/s    in 0s      \n",
      "\n",
      "2024-05-27 14:05:50 (48.4 MB/s) - ‘preprocess_data.py’ saved [2510/2510]\n",
      "\n",
      "total 292\n",
      "drwxrwxrwx+ 2 codespace codespace   4096 May 27 13:36 data\n",
      "-rw-rw-rw-  1 codespace codespace  60760 May 27 14:05 homework_2.ipynb\n",
      "-rw-r--r--  1 codespace codespace 217088 May 24 14:43 mlflow.db\n",
      "drwxrwxrwx+ 2 codespace codespace   4096 May 24 14:14 mlruns\n",
      "drwxrwxrwx+ 2 codespace codespace   4096 May 27 13:59 output\n",
      "-rw-rw-rw-  1 codespace codespace   2510 May 27 14:05 preprocess_data.py\n"
     ]
    }
   ],
   "source": [
    "!wget https://raw.githubusercontent.com/DataTalksClub/mlops-zoomcamp/main/cohorts/2024/02-experiment-tracking/homework/preprocess_data.py\n",
    "!ls -l"
   ]
  },
  {
   "cell_type": "code",
   "execution_count": 49,
   "id": "00a6c0cb-9da3-4a6b-9443-f238eb19e68b",
   "metadata": {},
   "outputs": [],
   "source": [
    "!python preprocess_data.py --raw_data_path data --dest_path ./output"
   ]
  },
  {
   "cell_type": "code",
   "execution_count": 53,
   "id": "5f52d225-43fa-404b-8b42-f064fa2bc812",
   "metadata": {},
   "outputs": [
    {
     "name": "stdout",
     "output_type": "stream",
     "text": [
      "total 7016\n",
      "-rw-rw-rw- 1 codespace codespace  131004 May 27 13:59 dv.pkl\n",
      "-rw-rw-rw- 1 codespace codespace 2458697 May 27 13:59 test.pkl\n",
      "-rw-rw-rw- 1 codespace codespace 2374517 May 27 13:59 train.pkl\n",
      "-rw-rw-rw- 1 codespace codespace 2215823 May 27 13:59 val.pkl\n"
     ]
    }
   ],
   "source": [
    "!ls -l output"
   ]
  },
  {
   "cell_type": "markdown",
   "id": "3652c41b-19bb-455a-8e09-4ce2e8942c03",
   "metadata": {},
   "source": [
    "## Q3. Train a model with autolog"
   ]
  },
  {
   "cell_type": "code",
   "execution_count": 56,
   "id": "d86ae8ed-a799-4efb-8e0b-58ae2269a4c0",
   "metadata": {},
   "outputs": [
    {
     "name": "stdout",
     "output_type": "stream",
     "text": [
      "--2024-05-27 14:06:01--  https://raw.githubusercontent.com/DataTalksClub/mlops-zoomcamp/main/cohorts/2024/02-experiment-tracking/homework/train.py\n",
      "Resolving raw.githubusercontent.com (raw.githubusercontent.com)... 185.199.108.133, 185.199.110.133, 185.199.111.133, ...\n",
      "Connecting to raw.githubusercontent.com (raw.githubusercontent.com)|185.199.108.133|:443... connected.\n",
      "HTTP request sent, awaiting response... 200 OK\n",
      "Length: 790 [text/plain]\n",
      "Saving to: ‘train.py’\n",
      "\n",
      "train.py            100%[===================>]     790  --.-KB/s    in 0s      \n",
      "\n",
      "2024-05-27 14:06:01 (90.7 MB/s) - ‘train.py’ saved [790/790]\n",
      "\n",
      "total 296\n",
      "drwxrwxrwx+ 2 codespace codespace   4096 May 27 13:36 data\n",
      "-rw-rw-rw-  1 codespace codespace  60760 May 27 14:05 homework_2.ipynb\n",
      "-rw-r--r--  1 codespace codespace 217088 May 24 14:43 mlflow.db\n",
      "drwxrwxrwx+ 2 codespace codespace   4096 May 24 14:14 mlruns\n",
      "drwxrwxrwx+ 2 codespace codespace   4096 May 27 13:59 output\n",
      "-rw-rw-rw-  1 codespace codespace   2510 May 27 14:05 preprocess_data.py\n",
      "-rw-rw-rw-  1 codespace codespace    790 May 27 14:06 train.py\n"
     ]
    }
   ],
   "source": [
    "!wget https://raw.githubusercontent.com/DataTalksClub/mlops-zoomcamp/main/cohorts/2024/02-experiment-tracking/homework/train.py\n",
    "!ls -l"
   ]
  },
  {
   "cell_type": "markdown",
   "id": "429221ed-9319-47d6-99ff-6aaa8c2128f9",
   "metadata": {},
   "source": [
    "### Run this command in the terminal\n",
    "```\n",
    "mlflow ui --backend-store-uri \"sqlite:///mlflow.db\" --port 5051\n",
    "```"
   ]
  },
  {
   "cell_type": "code",
   "execution_count": 58,
   "id": "b25a118d-17e4-4628-b77e-137f7f337d23",
   "metadata": {},
   "outputs": [
    {
     "name": "stdout",
     "output_type": "stream",
     "text": [
      "2024/05/27 14:19:46 INFO mlflow.tracking.fluent: Experiment with name 'homework_2' does not exist. Creating a new experiment.\n",
      "2024/05/27 14:19:46 WARNING mlflow.utils.autologging_utils: You are using an unsupported version of sklearn. If you encounter errors during autologging, try upgrading / downgrading sklearn to a supported version, or try upgrading MLflow.\n",
      "2024/05/27 14:19:47 WARNING mlflow.sklearn: Failed to log training dataset information to MLflow Tracking. Reason: 'numpy.ndarray' object has no attribute 'toarray'\n",
      "2024/05/27 14:20:01 WARNING mlflow.utils.autologging_utils: MLflow autologging encountered a warning: \"/home/codespace/anaconda3/envs/mlops_2024/lib/python3.11/site-packages/_distutils_hack/__init__.py:26: UserWarning: Setuptools is replacing distutils.\"\n",
      "/home/codespace/anaconda3/envs/mlops_2024/lib/python3.11/site-packages/sklearn/metrics/_regression.py:492: FutureWarning: 'squared' is deprecated in version 1.4 and will be removed in 1.6. To calculate the root mean squared error, use the function'root_mean_squared_error'.\n",
      "  warnings.warn(\n"
     ]
    }
   ],
   "source": [
    "!python train.py"
   ]
  },
  {
   "cell_type": "code",
   "execution_count": 69,
   "id": "cf73f317-e66f-448b-aa69-4a0f5f36a55c",
   "metadata": {},
   "outputs": [
    {
     "name": "stdout",
     "output_type": "stream",
     "text": [
      "<Experiment: artifact_location='/workspaces/mlops-zoomcamp/02-experiment-tracking/mlruns/2', creation_time=1716819586961, experiment_id='2', last_update_time=1716819586961, lifecycle_stage='active', name='homework_2', tags={}>\n",
      "\n",
      "<Experiment: artifact_location='/workspaces/mlops-zoomcamp/02-experiment-tracking/mlruns/1', creation_time=1716560072541, experiment_id='1', last_update_time=1716560072541, lifecycle_stage='active', name='mi_primer_experimento', tags={}>\n",
      "\n",
      "<Experiment: artifact_location='mlflow-artifacts:/0', creation_time=1716559766688, experiment_id='0', last_update_time=1716559766688, lifecycle_stage='active', name='Default', tags={}>\n",
      "\n"
     ]
    }
   ],
   "source": [
    "client = MlflowClient(tracking_uri=TRACKING_URI)\n",
    "\n",
    "all_experiments = client.search_experiments()\n",
    "\n",
    "for experiments in all_experiments:\n",
    "    print(experiments, end=\"\\n\\n\")\n"
   ]
  },
  {
   "cell_type": "code",
   "execution_count": 79,
   "id": "0b76f50d-453a-4a2c-ab8d-def34505cd94",
   "metadata": {},
   "outputs": [
    {
     "name": "stdout",
     "output_type": "stream",
     "text": [
      "<Run: data=<RunData: metrics={'training_mean_absolute_error': 3.4244701942312354,\n",
      " 'training_mean_squared_error': 27.083054499499358,\n",
      " 'training_r2_score': 0.6673983775155525,\n",
      " 'training_root_mean_squared_error': 5.204138209108148,\n",
      " 'training_score': 0.6673983775155525}, params={'bootstrap': 'True',\n",
      " 'ccp_alpha': '0.0',\n",
      " 'criterion': 'squared_error',\n",
      " 'max_depth': '10',\n",
      " 'max_features': '1.0',\n",
      " 'max_leaf_nodes': 'None',\n",
      " 'max_samples': 'None',\n",
      " 'min_impurity_decrease': '0.0',\n",
      " 'min_samples_leaf': '1',\n",
      " 'min_samples_split': '2',\n",
      " 'min_weight_fraction_leaf': '0.0',\n",
      " 'monotonic_cst': 'None',\n",
      " 'n_estimators': '100',\n",
      " 'n_jobs': 'None',\n",
      " 'oob_score': 'False',\n",
      " 'random_state': '0',\n",
      " 'verbose': '0',\n",
      " 'warm_start': 'False'}, tags={'estimator_class': 'sklearn.ensemble._forest.RandomForestRegressor',\n",
      " 'estimator_name': 'RandomForestRegressor',\n",
      " 'mlflow.log-model.history': '[{\"run_id\": \"179c5e79001944b69ec5508f4a926d2a\", '\n",
      "                             '\"artifact_path\": \"model\", \"utc_time_created\": '\n",
      "                             '\"2024-05-27 14:19:58.870197\", \"flavors\": '\n",
      "                             '{\"python_function\": {\"model_path\": \"model.pkl\", '\n",
      "                             '\"predict_fn\": \"predict\", \"loader_module\": '\n",
      "                             '\"mlflow.sklearn\", \"python_version\": \"3.11.7\", '\n",
      "                             '\"env\": {\"conda\": \"conda.yaml\", \"virtualenv\": '\n",
      "                             '\"python_env.yaml\"}}, \"sklearn\": '\n",
      "                             '{\"pickled_model\": \"model.pkl\", '\n",
      "                             '\"sklearn_version\": \"1.5.0\", '\n",
      "                             '\"serialization_format\": \"cloudpickle\", \"code\": '\n",
      "                             'null}}, \"model_uuid\": '\n",
      "                             '\"689d6c891ab04b4b88b35c02a8f7e763\", '\n",
      "                             '\"mlflow_version\": \"2.13.0\", \"signature\": '\n",
      "                             '{\"inputs\": \"[{\\\\\"type\\\\\": \\\\\"tensor\\\\\", '\n",
      "                             '\\\\\"tensor-spec\\\\\": {\\\\\"dtype\\\\\": \\\\\"float64\\\\\", '\n",
      "                             '\\\\\"shape\\\\\": [-1, 5702]}}]\", \"outputs\": '\n",
      "                             '\"[{\\\\\"type\\\\\": \\\\\"tensor\\\\\", \\\\\"tensor-spec\\\\\": '\n",
      "                             '{\\\\\"dtype\\\\\": \\\\\"float64\\\\\", \\\\\"shape\\\\\": '\n",
      "                             '[-1]}}]\", \"params\": null}, \"model_size_bytes\": '\n",
      "                             '4528787}]',\n",
      " 'mlflow.runName': 'overjoyed-lark-849',\n",
      " 'mlflow.source.git.commit': 'a8b60e09e25cb13029796aa30ebcc37be59eec55',\n",
      " 'mlflow.source.name': 'train.py',\n",
      " 'mlflow.source.type': 'LOCAL',\n",
      " 'mlflow.user': 'codespace'}>, info=<RunInfo: artifact_uri='/workspaces/mlops-zoomcamp/02-experiment-tracking/mlruns/2/179c5e79001944b69ec5508f4a926d2a/artifacts', end_time=1716819602448, experiment_id='2', lifecycle_stage='active', run_id='179c5e79001944b69ec5508f4a926d2a', run_name='overjoyed-lark-849', run_uuid='179c5e79001944b69ec5508f4a926d2a', start_time=1716819587336, status='FINISHED', user_id='codespace'>, inputs=<RunInputs: dataset_inputs=[<DatasetInput: dataset=<Dataset: digest='7edda543', name='dataset', profile=('{\"features_shape\": [62574, 5702], \"features_size\": 356796948, '\n",
      " '\"features_nbytes\": 2854375584}'), schema=('{\"mlflow_tensorspec\": {\"features\": \"[{\\\\\"type\\\\\": \\\\\"tensor\\\\\", '\n",
      " '\\\\\"tensor-spec\\\\\": {\\\\\"dtype\\\\\": \\\\\"float64\\\\\", \\\\\"shape\\\\\": [-1, 5702]}}]\", '\n",
      " '\"targets\": null}}'), source=('{\"tags\": {\"mlflow.user\": \"codespace\", \"mlflow.source.name\": \"train.py\", '\n",
      " '\"mlflow.source.type\": \"LOCAL\", \"mlflow.source.git.commit\": '\n",
      " '\"a8b60e09e25cb13029796aa30ebcc37be59eec55\"}}'), source_type='code'>, tags=[<InputTag: key='mlflow.data.context', value='eval'>]>]>>\n"
     ]
    }
   ],
   "source": [
    "runs = client.search_runs(\n",
    "    experiment_ids='2',\n",
    "    filter_string=\"\",\n",
    "    run_view_type=ViewType.ACTIVE_ONLY,\n",
    "    max_results=5,\n",
    "    #order_by=[\"metrics.training_root_mean_squared_error ASC\"]\n",
    ")\n",
    "\n",
    "for run in runs:\n",
    "    print(run)"
   ]
  },
  {
   "cell_type": "code",
   "execution_count": 82,
   "id": "5bc6c592-4d94-4486-9a1e-c5f0505f0615",
   "metadata": {},
   "outputs": [
    {
     "name": "stdout",
     "output_type": "stream",
     "text": [
      "run id: 179c5e79001944b69ec5508f4a926d2a, rmse: 5.2041, min_samples_split: 2\n"
     ]
    }
   ],
   "source": [
    "for run in runs:\n",
    "    print(f\"run id: {run.info.run_id}, rmse: {run.data.metrics['training_root_mean_squared_error']:.4f}, min_samples_split: {run.data.params['min_samples_split']}\")"
   ]
  },
  {
   "cell_type": "markdown",
   "id": "4d8c2427-a3a6-412f-b278-e3bc2c545afc",
   "metadata": {},
   "source": [
    "## Q4. Launch the tracking server locally"
   ]
  },
  {
   "cell_type": "code",
   "execution_count": 88,
   "id": "5f782459-22f0-4ca0-956f-c8188b279e2a",
   "metadata": {},
   "outputs": [
    {
     "name": "stdout",
     "output_type": "stream",
     "text": [
      "/workspaces/mlops-zoomcamp/02-experiment-tracking\n"
     ]
    }
   ],
   "source": [
    "!pwd"
   ]
  },
  {
   "cell_type": "markdown",
   "id": "e4093466-1682-4067-abda-c050d6f06362",
   "metadata": {
    "scrolled": true
   },
   "source": [
    "### Run this command in the terminal\n",
    "```\n",
    "mlflow ui --backend-store-uri \"sqlite:///mlflow.db\" --default-artifact-root \"./artifacts\" --port 5051\n",
    "```"
   ]
  },
  {
   "cell_type": "markdown",
   "id": "69e44baa-aca4-45e3-b622-cc53a43d8378",
   "metadata": {},
   "source": [
    "## Q5. Tune model hyperparameters"
   ]
  },
  {
   "cell_type": "code",
   "execution_count": 89,
   "id": "0934d0ff-342a-43e7-895b-db978b871061",
   "metadata": {},
   "outputs": [
    {
     "name": "stdout",
     "output_type": "stream",
     "text": [
      "The history saving thread hit an unexpected error (OperationalError('attempt to write a readonly database')).History will not be written to the database.\n",
      "--2024-05-27 15:33:35--  https://raw.githubusercontent.com/DataTalksClub/mlops-zoomcamp/main/cohorts/2024/02-experiment-tracking/homework/hpo.py\n",
      "Resolving raw.githubusercontent.com (raw.githubusercontent.com)... 185.199.110.133, 185.199.108.133, 185.199.111.133, ...\n",
      "Connecting to raw.githubusercontent.com (raw.githubusercontent.com)|185.199.110.133|:443... connected.\n",
      "HTTP request sent, awaiting response... 200 OK\n",
      "Length: 1841 (1.8K) [text/plain]\n",
      "Saving to: ‘hpo.py’\n",
      "\n",
      "hpo.py              100%[===================>]   1.80K  --.-KB/s    in 0s      \n",
      "\n",
      "2024-05-27 15:33:35 (17.3 MB/s) - ‘hpo.py’ saved [1841/1841]\n",
      "\n",
      "total 316\n",
      "drwxrwxrwx+ 2 codespace codespace   4096 May 27 15:22 artifacts\n",
      "drwxrwxrwx+ 2 codespace codespace   4096 May 27 13:36 data\n",
      "-rw-rw-rw-  1 codespace codespace  71441 May 27 15:32 homework_2.ipynb\n",
      "-rw-rw-rw-  1 codespace codespace   1841 May 27 15:33 hpo.py\n",
      "-rw-r--r--  1 codespace codespace 217088 May 27 14:20 mlflow.db\n",
      "drwxrwxrwx+ 4 codespace codespace   4096 May 27 14:19 mlruns\n",
      "drwxrwxrwx+ 2 codespace codespace   4096 May 27 13:59 output\n",
      "-rw-rw-rw-  1 codespace codespace   2510 May 27 14:05 preprocess_data.py\n",
      "-rw-rw-rw-  1 codespace codespace   1004 May 27 14:19 train.py\n"
     ]
    }
   ],
   "source": [
    "!wget https://raw.githubusercontent.com/DataTalksClub/mlops-zoomcamp/main/cohorts/2024/02-experiment-tracking/homework/hpo.py\n",
    "!ls -l"
   ]
  },
  {
   "cell_type": "code",
   "execution_count": 90,
   "id": "7fe4776d-ed60-4a08-b798-c155a2626abd",
   "metadata": {},
   "outputs": [
    {
     "name": "stdout",
     "output_type": "stream",
     "text": [
      "2024/05/27 15:51:30 INFO mlflow.tracking.fluent: Experiment with name 'random-forest-hyperopt' does not exist. Creating a new experiment.\n",
      "  0%|                                    | 0/15 [00:00<?, ?trial/s, best loss=?]/home/codespace/anaconda3/envs/mlops_2024/lib/python3.11/site-packages/sklearn/metrics/_regression.py:492: FutureWarning: 'squared' is deprecated in version 1.4 and will be removed in 1.6. To calculate the root mean squared error, use the function'root_mean_squared_error'.\n",
      "  warnings.warn(\n",
      "\n",
      "  7%|▋          | 1/15 [00:07<01:49,  7.82s/trial, best loss: 5.370086069268862]/home/codespace/anaconda3/envs/mlops_2024/lib/python3.11/site-packages/sklearn/metrics/_regression.py:492: FutureWarning: 'squared' is deprecated in version 1.4 and will be removed in 1.6. To calculate the root mean squared error, use the function'root_mean_squared_error'.\n",
      "  warnings.warn(\n",
      "\n",
      " 13%|█▍         | 2/15 [00:08<00:45,  3.47s/trial, best loss: 5.370086069268862]/home/codespace/anaconda3/envs/mlops_2024/lib/python3.11/site-packages/sklearn/metrics/_regression.py:492: FutureWarning: 'squared' is deprecated in version 1.4 and will be removed in 1.6. To calculate the root mean squared error, use the function'root_mean_squared_error'.\n",
      "  warnings.warn(\n",
      "\n",
      " 20%|██▏        | 3/15 [00:08<00:25,  2.16s/trial, best loss: 5.370086069268862]/home/codespace/anaconda3/envs/mlops_2024/lib/python3.11/site-packages/sklearn/metrics/_regression.py:492: FutureWarning: 'squared' is deprecated in version 1.4 and will be removed in 1.6. To calculate the root mean squared error, use the function'root_mean_squared_error'.\n",
      "  warnings.warn(\n",
      "\n",
      " 27%|██▉        | 4/15 [00:13<00:36,  3.32s/trial, best loss: 5.357490752366866]/home/codespace/anaconda3/envs/mlops_2024/lib/python3.11/site-packages/sklearn/metrics/_regression.py:492: FutureWarning: 'squared' is deprecated in version 1.4 and will be removed in 1.6. To calculate the root mean squared error, use the function'root_mean_squared_error'.\n",
      "  warnings.warn(\n",
      "\n",
      " 33%|███▋       | 5/15 [00:16<00:30,  3.04s/trial, best loss: 5.357490752366866]/home/codespace/anaconda3/envs/mlops_2024/lib/python3.11/site-packages/sklearn/metrics/_regression.py:492: FutureWarning: 'squared' is deprecated in version 1.4 and will be removed in 1.6. To calculate the root mean squared error, use the function'root_mean_squared_error'.\n",
      "  warnings.warn(\n",
      "\n",
      " 40%|████▍      | 6/15 [00:25<00:44,  4.97s/trial, best loss: 5.354695072530291]/home/codespace/anaconda3/envs/mlops_2024/lib/python3.11/site-packages/sklearn/metrics/_regression.py:492: FutureWarning: 'squared' is deprecated in version 1.4 and will be removed in 1.6. To calculate the root mean squared error, use the function'root_mean_squared_error'.\n",
      "  warnings.warn(\n",
      "\n",
      " 47%|█████▏     | 7/15 [00:33<00:49,  6.15s/trial, best loss: 5.354695072530291]/home/codespace/anaconda3/envs/mlops_2024/lib/python3.11/site-packages/sklearn/metrics/_regression.py:492: FutureWarning: 'squared' is deprecated in version 1.4 and will be removed in 1.6. To calculate the root mean squared error, use the function'root_mean_squared_error'.\n",
      "  warnings.warn(\n",
      "\n",
      " 53%|█████▊     | 8/15 [00:34<00:31,  4.51s/trial, best loss: 5.354695072530291]/home/codespace/anaconda3/envs/mlops_2024/lib/python3.11/site-packages/sklearn/metrics/_regression.py:492: FutureWarning: 'squared' is deprecated in version 1.4 and will be removed in 1.6. To calculate the root mean squared error, use the function'root_mean_squared_error'.\n",
      "  warnings.warn(\n",
      "\n",
      " 60%|██████▌    | 9/15 [00:40<00:28,  4.76s/trial, best loss: 5.354695072530291]/home/codespace/anaconda3/envs/mlops_2024/lib/python3.11/site-packages/sklearn/metrics/_regression.py:492: FutureWarning: 'squared' is deprecated in version 1.4 and will be removed in 1.6. To calculate the root mean squared error, use the function'root_mean_squared_error'.\n",
      "  warnings.warn(\n",
      "\n",
      " 67%|██████▋   | 10/15 [00:44<00:23,  4.66s/trial, best loss: 5.354695072530291]/home/codespace/anaconda3/envs/mlops_2024/lib/python3.11/site-packages/sklearn/metrics/_regression.py:492: FutureWarning: 'squared' is deprecated in version 1.4 and will be removed in 1.6. To calculate the root mean squared error, use the function'root_mean_squared_error'.\n",
      "  warnings.warn(\n",
      "\n",
      " 73%|███████▎  | 11/15 [00:47<00:17,  4.27s/trial, best loss: 5.335419588556921]/home/codespace/anaconda3/envs/mlops_2024/lib/python3.11/site-packages/sklearn/metrics/_regression.py:492: FutureWarning: 'squared' is deprecated in version 1.4 and will be removed in 1.6. To calculate the root mean squared error, use the function'root_mean_squared_error'.\n",
      "  warnings.warn(\n",
      "\n",
      " 80%|████████  | 12/15 [00:50<00:11,  3.81s/trial, best loss: 5.335419588556921]/home/codespace/anaconda3/envs/mlops_2024/lib/python3.11/site-packages/sklearn/metrics/_regression.py:492: FutureWarning: 'squared' is deprecated in version 1.4 and will be removed in 1.6. To calculate the root mean squared error, use the function'root_mean_squared_error'.\n",
      "  warnings.warn(\n",
      "\n",
      " 87%|████████▋ | 13/15 [00:51<00:05,  2.96s/trial, best loss: 5.335419588556921]/home/codespace/anaconda3/envs/mlops_2024/lib/python3.11/site-packages/sklearn/metrics/_regression.py:492: FutureWarning: 'squared' is deprecated in version 1.4 and will be removed in 1.6. To calculate the root mean squared error, use the function'root_mean_squared_error'.\n",
      "  warnings.warn(\n",
      "\n",
      " 93%|█████████▎| 14/15 [00:54<00:03,  3.03s/trial, best loss: 5.335419588556921]/home/codespace/anaconda3/envs/mlops_2024/lib/python3.11/site-packages/sklearn/metrics/_regression.py:492: FutureWarning: 'squared' is deprecated in version 1.4 and will be removed in 1.6. To calculate the root mean squared error, use the function'root_mean_squared_error'.\n",
      "  warnings.warn(\n",
      "\n",
      "100%|██████████| 15/15 [00:59<00:00,  4.00s/trial, best loss: 5.335419588556921]\n"
     ]
    }
   ],
   "source": [
    "!python hpo.py"
   ]
  },
  {
   "cell_type": "code",
   "execution_count": 91,
   "id": "a8b5cd3d-cd20-43ea-b4d5-eb0cf2e5a216",
   "metadata": {},
   "outputs": [
    {
     "name": "stdout",
     "output_type": "stream",
     "text": [
      "<Experiment: artifact_location='/workspaces/mlops-zoomcamp/02-experiment-tracking/mlruns/3', creation_time=1716825090518, experiment_id='3', last_update_time=1716825090518, lifecycle_stage='active', name='random-forest-hyperopt', tags={}>\n",
      "\n",
      "<Experiment: artifact_location='/workspaces/mlops-zoomcamp/02-experiment-tracking/mlruns/2', creation_time=1716819586961, experiment_id='2', last_update_time=1716819586961, lifecycle_stage='active', name='homework_2', tags={}>\n",
      "\n",
      "<Experiment: artifact_location='/workspaces/mlops-zoomcamp/02-experiment-tracking/mlruns/1', creation_time=1716560072541, experiment_id='1', last_update_time=1716560072541, lifecycle_stage='active', name='mi_primer_experimento', tags={}>\n",
      "\n",
      "<Experiment: artifact_location='mlflow-artifacts:/0', creation_time=1716559766688, experiment_id='0', last_update_time=1716559766688, lifecycle_stage='active', name='Default', tags={}>\n",
      "\n"
     ]
    }
   ],
   "source": [
    "client = MlflowClient(tracking_uri=TRACKING_URI)\n",
    "\n",
    "all_experiments = client.search_experiments()\n",
    "\n",
    "for experiments in all_experiments:\n",
    "    print(experiments, end=\"\\n\\n\")"
   ]
  },
  {
   "cell_type": "code",
   "execution_count": 112,
   "id": "9729bc87-d2ad-42b3-8ce9-f7be80518710",
   "metadata": {},
   "outputs": [],
   "source": [
    "runs = client.search_runs(\n",
    "    experiment_ids='3',\n",
    "    filter_string=\"\",\n",
    "    run_view_type=ViewType.ACTIVE_ONLY,\n",
    "    max_results=10,\n",
    "    order_by=[\"metrics.rmse ASC\"]\n",
    ")"
   ]
  },
  {
   "cell_type": "code",
   "execution_count": 115,
   "id": "e0a98b15-f02d-4a82-988a-c514517c2932",
   "metadata": {},
   "outputs": [
    {
     "name": "stdout",
     "output_type": "stream",
     "text": [
      "run id: 606da110763c44398871b191551c11f2, run name: efficient-doe-656\n",
      "\trmse: 5.3354\n",
      "\tparams: {'max_depth': '19', 'min_samples_leaf': '2', 'min_samples_split': '2', 'n_estimators': '11', 'random_state': '42'}\n",
      "\n",
      "run id: 635da6b0c6414f3ea6881223802937a4, run name: grandiose-zebra-58\n",
      "\trmse: 5.3547\n",
      "\tparams: {'max_depth': '15', 'min_samples_leaf': '2', 'min_samples_split': '3', 'n_estimators': '40', 'random_state': '42'}\n",
      "\n",
      "run id: 102233c7278f4daab12ac3ce9286b13f, run name: amazing-roo-106\n",
      "\trmse: 5.3550\n",
      "\tparams: {'max_depth': '20', 'min_samples_leaf': '1', 'min_samples_split': '9', 'n_estimators': '19', 'random_state': '42'}\n",
      "\n",
      "run id: faf53ce92f8b4d08878368fb99ed79cd, run name: clean-mouse-735\n",
      "\trmse: 5.3575\n",
      "\tparams: {'max_depth': '14', 'min_samples_leaf': '3', 'min_samples_split': '4', 'n_estimators': '26', 'random_state': '42'}\n",
      "\n"
     ]
    }
   ],
   "source": [
    "for run in runs:\n",
    "    print(f\"run id: {run.info.run_id}, run name: {run.info.run_name}\\n\\trmse: {run.data.metrics['rmse']:.4f}\\n\\tparams: {run.data.params}\", end=\"\\n\\n\")"
   ]
  },
  {
   "cell_type": "markdown",
   "id": "0aba952c-b8da-4358-9c1a-6f720106a9e3",
   "metadata": {},
   "source": [
    "## Q6. Promote the best model to the model registry"
   ]
  },
  {
   "cell_type": "code",
   "execution_count": 116,
   "id": "ecf2696c-041c-4e3f-9b61-f5a666bdce0d",
   "metadata": {},
   "outputs": [
    {
     "name": "stdout",
     "output_type": "stream",
     "text": [
      "--2024-05-27 16:31:28--  https://raw.githubusercontent.com/DataTalksClub/mlops-zoomcamp/main/cohorts/2024/02-experiment-tracking/homework/register_model.py\n",
      "Resolving raw.githubusercontent.com (raw.githubusercontent.com)... 185.199.110.133, 185.199.111.133, 185.199.108.133, ...\n",
      "Connecting to raw.githubusercontent.com (raw.githubusercontent.com)|185.199.110.133|:443... connected.\n",
      "HTTP request sent, awaiting response... 200 OK\n",
      "Length: 2502 (2.4K) [text/plain]\n",
      "Saving to: ‘register_model.py’\n",
      "\n",
      "register_model.py   100%[===================>]   2.44K  --.-KB/s    in 0s      \n",
      "\n",
      "2024-05-27 16:31:28 (56.6 MB/s) - ‘register_model.py’ saved [2502/2502]\n",
      "\n",
      "total 364\n",
      "drwxrwxrwx+ 2 codespace codespace   4096 May 27 15:22 artifacts\n",
      "drwxrwxrwx+ 2 codespace codespace   4096 May 27 13:36 data\n",
      "-rw-rw-rw-  1 codespace codespace  84070 May 27 16:30 homework_2.ipynb\n",
      "-rw-rw-rw-  1 codespace codespace   1999 May 27 15:46 hpo.py\n",
      "-rw-r--r--  1 codespace codespace 249856 May 27 15:52 mlflow.db\n",
      "drwxrwxrwx+ 4 codespace codespace   4096 May 27 14:19 mlruns\n",
      "drwxrwxrwx+ 2 codespace codespace   4096 May 27 13:59 output\n",
      "-rw-rw-rw-  1 codespace codespace   2510 May 27 14:05 preprocess_data.py\n",
      "-rw-rw-rw-  1 codespace codespace   2502 May 27 16:31 register_model.py\n",
      "-rw-rw-rw-  1 codespace codespace   1004 May 27 14:19 train.py\n"
     ]
    }
   ],
   "source": [
    "!wget https://raw.githubusercontent.com/DataTalksClub/mlops-zoomcamp/main/cohorts/2024/02-experiment-tracking/homework/register_model.py\n",
    "!ls -l"
   ]
  },
  {
   "cell_type": "code",
   "execution_count": 120,
   "id": "8a602010-ba30-4a0b-98ca-15e4781a73da",
   "metadata": {},
   "outputs": [
    {
     "name": "stdout",
     "output_type": "stream",
     "text": [
      "2024/05/27 16:55:27 INFO mlflow.tracking.fluent: Experiment with name 'random-forest-best-models' does not exist. Creating a new experiment.\n",
      "2024/05/27 16:55:27 WARNING mlflow.utils.autologging_utils: You are using an unsupported version of sklearn. If you encounter errors during autologging, try upgrading / downgrading sklearn to a supported version, or try upgrading MLflow.\n",
      "2024/05/27 16:55:28 WARNING mlflow.sklearn: Failed to log training dataset information to MLflow Tracking. Reason: 'numpy.ndarray' object has no attribute 'toarray'\n",
      "2024/05/27 16:55:32 WARNING mlflow.utils.autologging_utils: MLflow autologging encountered a warning: \"/home/codespace/anaconda3/envs/mlops_2024/lib/python3.11/site-packages/_distutils_hack/__init__.py:26: UserWarning: Setuptools is replacing distutils.\"\n",
      "/home/codespace/anaconda3/envs/mlops_2024/lib/python3.11/site-packages/sklearn/metrics/_regression.py:492: FutureWarning: 'squared' is deprecated in version 1.4 and will be removed in 1.6. To calculate the root mean squared error, use the function'root_mean_squared_error'.\n",
      "  warnings.warn(\n",
      "/home/codespace/anaconda3/envs/mlops_2024/lib/python3.11/site-packages/sklearn/metrics/_regression.py:492: FutureWarning: 'squared' is deprecated in version 1.4 and will be removed in 1.6. To calculate the root mean squared error, use the function'root_mean_squared_error'.\n",
      "  warnings.warn(\n",
      "2024/05/27 16:55:35 WARNING mlflow.sklearn: Failed to log training dataset information to MLflow Tracking. Reason: 'numpy.ndarray' object has no attribute 'toarray'\n",
      "/home/codespace/anaconda3/envs/mlops_2024/lib/python3.11/site-packages/sklearn/metrics/_regression.py:492: FutureWarning: 'squared' is deprecated in version 1.4 and will be removed in 1.6. To calculate the root mean squared error, use the function'root_mean_squared_error'.\n",
      "  warnings.warn(\n",
      "/home/codespace/anaconda3/envs/mlops_2024/lib/python3.11/site-packages/sklearn/metrics/_regression.py:492: FutureWarning: 'squared' is deprecated in version 1.4 and will be removed in 1.6. To calculate the root mean squared error, use the function'root_mean_squared_error'.\n",
      "  warnings.warn(\n",
      "2024/05/27 16:55:48 WARNING mlflow.sklearn: Failed to log training dataset information to MLflow Tracking. Reason: 'numpy.ndarray' object has no attribute 'toarray'\n",
      "/home/codespace/anaconda3/envs/mlops_2024/lib/python3.11/site-packages/sklearn/metrics/_regression.py:492: FutureWarning: 'squared' is deprecated in version 1.4 and will be removed in 1.6. To calculate the root mean squared error, use the function'root_mean_squared_error'.\n",
      "  warnings.warn(\n",
      "/home/codespace/anaconda3/envs/mlops_2024/lib/python3.11/site-packages/sklearn/metrics/_regression.py:492: FutureWarning: 'squared' is deprecated in version 1.4 and will be removed in 1.6. To calculate the root mean squared error, use the function'root_mean_squared_error'.\n",
      "  warnings.warn(\n",
      "2024/05/27 16:55:56 WARNING mlflow.sklearn: Failed to log training dataset information to MLflow Tracking. Reason: 'numpy.ndarray' object has no attribute 'toarray'\n",
      "/home/codespace/anaconda3/envs/mlops_2024/lib/python3.11/site-packages/sklearn/metrics/_regression.py:492: FutureWarning: 'squared' is deprecated in version 1.4 and will be removed in 1.6. To calculate the root mean squared error, use the function'root_mean_squared_error'.\n",
      "  warnings.warn(\n",
      "/home/codespace/anaconda3/envs/mlops_2024/lib/python3.11/site-packages/sklearn/metrics/_regression.py:492: FutureWarning: 'squared' is deprecated in version 1.4 and will be removed in 1.6. To calculate the root mean squared error, use the function'root_mean_squared_error'.\n",
      "  warnings.warn(\n",
      "2024/05/27 16:56:05 WARNING mlflow.sklearn: Failed to log training dataset information to MLflow Tracking. Reason: 'numpy.ndarray' object has no attribute 'toarray'\n",
      "/home/codespace/anaconda3/envs/mlops_2024/lib/python3.11/site-packages/sklearn/metrics/_regression.py:492: FutureWarning: 'squared' is deprecated in version 1.4 and will be removed in 1.6. To calculate the root mean squared error, use the function'root_mean_squared_error'.\n",
      "  warnings.warn(\n",
      "/home/codespace/anaconda3/envs/mlops_2024/lib/python3.11/site-packages/sklearn/metrics/_regression.py:492: FutureWarning: 'squared' is deprecated in version 1.4 and will be removed in 1.6. To calculate the root mean squared error, use the function'root_mean_squared_error'.\n",
      "  warnings.warn(\n",
      "Successfully registered model 'ml_regressor_green_taxi_trip'.\n",
      "Created version '1' of model 'ml_regressor_green_taxi_trip'.\n"
     ]
    }
   ],
   "source": [
    "!python register_model.py"
   ]
  },
  {
   "cell_type": "code",
   "execution_count": 157,
   "id": "79688fda-d0f5-41bf-a98f-8d691af70929",
   "metadata": {},
   "outputs": [
    {
     "name": "stdout",
     "output_type": "stream",
     "text": [
      "version: 1, stage: None, run id 20141bf780b94f8f99ef14e8c69dc80f\n"
     ]
    }
   ],
   "source": [
    "model_name = 'ml_regressor_green_taxi_trip'\n",
    "versions = client.search_model_versions(f\"name='{model_name}'\")\n",
    "for version in versions:\n",
    "    print(f\"version: {version.version}, stage: {version.current_stage}, run id {rund_id}\")"
   ]
  },
  {
   "cell_type": "code",
   "execution_count": 154,
   "id": "263eb390-2ee0-4749-8cd7-d3a4f92f6d54",
   "metadata": {},
   "outputs": [
    {
     "name": "stdout",
     "output_type": "stream",
     "text": [
      "<Experiment: artifact_location='/workspaces/mlops-zoomcamp/02-experiment-tracking/mlruns/4', creation_time=1716828927375, experiment_id='4', last_update_time=1716828927375, lifecycle_stage='active', name='random-forest-best-models', tags={}>\n",
      "\n",
      "<Experiment: artifact_location='/workspaces/mlops-zoomcamp/02-experiment-tracking/mlruns/3', creation_time=1716825090518, experiment_id='3', last_update_time=1716825090518, lifecycle_stage='active', name='random-forest-hyperopt', tags={}>\n",
      "\n",
      "<Experiment: artifact_location='/workspaces/mlops-zoomcamp/02-experiment-tracking/mlruns/2', creation_time=1716819586961, experiment_id='2', last_update_time=1716819586961, lifecycle_stage='active', name='homework_2', tags={}>\n",
      "\n",
      "<Experiment: artifact_location='/workspaces/mlops-zoomcamp/02-experiment-tracking/mlruns/1', creation_time=1716560072541, experiment_id='1', last_update_time=1716560072541, lifecycle_stage='active', name='mi_primer_experimento', tags={}>\n",
      "\n",
      "<Experiment: artifact_location='mlflow-artifacts:/0', creation_time=1716559766688, experiment_id='0', last_update_time=1716559766688, lifecycle_stage='active', name='Default', tags={}>\n",
      "\n"
     ]
    }
   ],
   "source": [
    "client = MlflowClient(tracking_uri=TRACKING_URI)\n",
    "\n",
    "all_experiments = client.search_experiments()\n",
    "\n",
    "for experiments in all_experiments:\n",
    "    print(experiments, end=\"\\n\\n\")"
   ]
  },
  {
   "cell_type": "code",
   "execution_count": 158,
   "id": "6909ec80-4f52-4e3d-ae63-4b104b2f6f10",
   "metadata": {},
   "outputs": [
    {
     "name": "stdout",
     "output_type": "stream",
     "text": [
      "test_rmse: 5.5674, run id: 20141bf780b94f8f99ef14e8c69dc80f, run name: smiling-moose-868\n",
      "test_rmse: 5.5853, run id: 9b45773098e64ea58921a21f982974b8, run name: auspicious-stoat-233\n",
      "test_rmse: 5.5895, run id: 1726b9be76c6455bbfe8a912d45bd47b, run name: sedate-stoat-717\n",
      "test_rmse: 5.5921, run id: 3de5fb497f974fdd97259aea27da07d3, run name: sedate-owl-350\n",
      "test_rmse: 5.5942, run id: 38aeed5818254efc9b72c15bcdb5da04, run name: traveling-koi-127\n"
     ]
    }
   ],
   "source": [
    "best_runs = client.search_runs(\n",
    "    experiment_ids='4',\n",
    "    filter_string=\"\",\n",
    "    run_view_type=ViewType.ACTIVE_ONLY,\n",
    "    max_results=5,\n",
    "    order_by=[\"metrics.test_rmse ASC\"]\n",
    ")\n",
    "\n",
    "for run in best_runs:\n",
    "    print(f\"test_rmse: {run.data.metrics['test_rmse']:.4f}, run id: {run.info.run_id}, run name: {run.info.run_name}\")"
   ]
  }
 ],
 "metadata": {
  "kernelspec": {
   "display_name": "Python 3 (ipykernel)",
   "language": "python",
   "name": "python3"
  },
  "language_info": {
   "codemirror_mode": {
    "name": "ipython",
    "version": 3
   },
   "file_extension": ".py",
   "mimetype": "text/x-python",
   "name": "python",
   "nbconvert_exporter": "python",
   "pygments_lexer": "ipython3",
   "version": "3.11.7"
  }
 },
 "nbformat": 4,
 "nbformat_minor": 5
}
