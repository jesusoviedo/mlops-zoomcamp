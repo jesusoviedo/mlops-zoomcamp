{
 "cells": [
  {
   "cell_type": "code",
   "execution_count": 1,
   "id": "2e25cf66",
   "metadata": {},
   "outputs": [],
   "source": [
    "import os\n",
    "import pickle\n",
    "import mlflow\n",
    "import pandas as pd\n",
    "import numpy as np\n",
    "import uuid\n",
    "from typing import List, Dict\n",
    "from sklearn.feature_extraction import DictVectorizer\n",
    "from sklearn.ensemble import RandomForestRegressor"
   ]
  },
  {
   "cell_type": "code",
   "execution_count": 2,
   "id": "42cdd3cf-c739-4182-9f7e-6437ef73c4d0",
   "metadata": {},
   "outputs": [],
   "source": [
    "year = 2021\n",
    "month = 1\n",
    "taxy_type = \"green\"\n",
    "\n",
    "if not os.path.exists(\"output\"):\n",
    "    os.mkdir(\"output\")\n",
    "\n",
    "if not os.path.exists(f\"output/{taxy_type}\"):\n",
    "    os.mkdir(f'output/{taxy_type}')\n",
    "\n",
    "INPUT_FILE = f\"https://d37ci6vzurychx.cloudfront.net/trip-data/{taxy_type}_tripdata_{year:04d}-{month:02d}.parquet\"\n",
    "OUTPUT_FILE = f\"output/{taxy_type}/tripdata_{year:04d}-{month:02d}.parquet\"\n",
    "\n",
    "RUN_ID = os.getenv(\"RUN_ID\", \"b359abb9c3284227871ed15e1bddbf3f\")\n"
   ]
  },
  {
   "cell_type": "code",
   "execution_count": 3,
   "id": "b9666e19",
   "metadata": {},
   "outputs": [],
   "source": [
    "def generate_uuid(n: int) -> List[str]:\n",
    "    return [str(uuid.uuid4()) for ni in range(n)]\n",
    "\n",
    "def read_dataframe(filename: str) -> pd.DataFrame:\n",
    "    df = pd.read_parquet(filename)\n",
    "    \n",
    "    df['duration'] = df.lpep_dropoff_datetime - df.lpep_pickup_datetime\n",
    "    df.duration = df.duration.dt.total_seconds() / 60\n",
    "    df = df[(df.duration >= 1) & (df.duration <= 60)]\n",
    "    df[\"id_viaje\"] = generate_uuid(df.shape[0])\n",
    "    \n",
    "    return df\n",
    "\n",
    "def prepare_dictionaries(df: pd.DataFrame) -> Dict:\n",
    "    categorical = ['PULocationID', 'DOLocationID']\n",
    "    df[categorical] = df[categorical].astype(str)\n",
    "    \n",
    "    df['PU_DO'] = df['PULocationID'] + '_' + df['DOLocationID']\n",
    "    categorical = ['PU_DO']\n",
    "    numerical = ['trip_distance']\n",
    "    dicts = df[categorical + numerical].to_dict(orient='records')\n",
    "    \n",
    "    return dicts"
   ]
  },
  {
   "cell_type": "code",
   "execution_count": 4,
   "id": "6b5f0d80",
   "metadata": {},
   "outputs": [],
   "source": [
    "def load_model(rund_id: str):\n",
    "    logged_model = f'../webservice-mlflow/artifacts/1/{rund_id}/artifacts/model'\n",
    "    return mlflow.pyfunc.load_model(logged_model)\n",
    "\n",
    "def save_result(df: pd.DataFrame, run_id: str, y_pred: np.ndarray, output_file: str):\n",
    "    df_result = pd.DataFrame()\n",
    "    df_result[\"id_viaje\"] = df[\"id_viaje\"]\n",
    "    df_result[\"lpep_pickup_datetime\"] = df[\"lpep_pickup_datetime\"]\n",
    "    df_result[\"PULocationID\"] = df[\"PULocationID\"]\n",
    "    df_result[\"DOLocationID\"] = df[\"DOLocationID\"]\n",
    "    df_result[\"trip_distance\"] = df[\"trip_distance\"]\n",
    "    df_result[\"duracion_real\"] = df[\"duration\"]\n",
    "    df_result[\"duracion_estimada\"] = y_pred\n",
    "    df_result[\"dif_real_estimada\"] = df_result[\"duracion_real\"] - df_result[\"duracion_estimada\"]\n",
    "    df_result[\"model_version\"] = run_id\n",
    "    \n",
    "    df_result.to_parquet(output_file, index=False)\n",
    "\n",
    "def apply_model(input_file: str, output_file: str, run_id: str):\n",
    "    df = read_dataframe(input_file)\n",
    "    dict_values = prepare_dictionaries(df)\n",
    "    \n",
    "    model = load_model(run_id)\n",
    "    y_pred = model.predict(dict_values)\n",
    "\n",
    "    save_result(df, run_id, y_pred, output_file)"
   ]
  },
  {
   "cell_type": "code",
   "execution_count": 5,
   "id": "2e22c4f5-a43f-4b14-8f84-94e778857cdd",
   "metadata": {},
   "outputs": [],
   "source": [
    "apply_model(INPUT_FILE, OUTPUT_FILE, RUN_ID)"
   ]
  },
  {
   "cell_type": "markdown",
   "id": "2d86fef9-0438-45e8-baf2-abe48e404483",
   "metadata": {},
   "source": [
    "## Convertir notebook a scrip\n",
    "```\n",
    "jupyter nbconvert --to script<nombre_archivo>.ipynb\n",
    "```"
   ]
  }
 ],
 "metadata": {
  "kernelspec": {
   "display_name": "Python 3 (ipykernel)",
   "language": "python",
   "name": "python3"
  },
  "language_info": {
   "codemirror_mode": {
    "name": "ipython",
    "version": 3
   },
   "file_extension": ".py",
   "mimetype": "text/x-python",
   "name": "python",
   "nbconvert_exporter": "python",
   "pygments_lexer": "ipython3",
   "version": "3.12.0"
  }
 },
 "nbformat": 4,
 "nbformat_minor": 5
}
