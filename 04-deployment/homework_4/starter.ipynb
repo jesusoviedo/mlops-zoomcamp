{
 "cells": [
  {
   "cell_type": "code",
   "execution_count": 1,
   "id": "0ef880a0",
   "metadata": {},
   "outputs": [],
   "source": [
    "import os\n",
    "import pickle\n",
    "import pandas as pd\n",
    "import numpy as np"
   ]
  },
  {
   "cell_type": "code",
   "execution_count": 8,
   "id": "41c08294",
   "metadata": {},
   "outputs": [],
   "source": [
    "def generate_filename(year, month, type_file):\n",
    "    if type_file.lower() == \"inp\":\n",
    "        return f'https://d37ci6vzurychx.cloudfront.net/trip-data/yellow_tripdata_{year:04d}-{month:02d}.parquet'\n",
    "    if type_file.lower() == \"out\":\n",
    "        directorio_out = \"output\"\n",
    "        if not os.path.exists(f\"{directorio_out}\"):\n",
    "            os.mkdir(f\"{directorio_out}\")\n",
    "        return f\"{directorio_out}/yellow_tripdata_{year:04d}-{month:02d}.parquet\"\n",
    "\n",
    "def read_data(filename, categorical, year, month):\n",
    "    df = pd.read_parquet(filename)\n",
    "    df['duration'] = df.tpep_dropoff_datetime - df.tpep_pickup_datetime\n",
    "    df['duration'] = df.duration.dt.total_seconds() / 60\n",
    "    df = df[(df.duration >= 1) & (df.duration <= 60)].copy()\n",
    "    df[categorical] = df[categorical].fillna(-1).astype('int').astype('str')\n",
    "    #generate ride_id\n",
    "    df[\"ride_id\"] = f'{year:04d}/{month:02d}_' + df.index.astype('str')\n",
    "    \n",
    "    return df\n",
    "\n",
    "\n",
    "def prepare_data(df, categorical):\n",
    "    return df[categorical].to_dict(orient='records')\n",
    "\n",
    "\n",
    "def load_model():\n",
    "    with open('model.bin', 'rb') as f_in:\n",
    "        dv, model = pickle.load(f_in)\n",
    "\n",
    "    return dv, model"
   ]
  },
  {
   "cell_type": "code",
   "execution_count": 3,
   "id": "669fda0a",
   "metadata": {},
   "outputs": [],
   "source": [
    "def apply_model(df, categorical):\n",
    "    X_dicts = prepare_data(df, categorical)\n",
    "    dv_sl, model_sl = load_model()\n",
    "    X_val = dv_sl.transform(X_dicts)\n",
    "    y_pred = model_sl.predict(X_val)\n",
    "\n",
    "    return y_pred\n",
    "\n",
    "\n",
    "def calculate_statistics(y_predic):\n",
    "    dict_statistics = dict()\n",
    "    dict_statistics[\"std_y_predic\"] = np.std(y_predic)\n",
    "    \n",
    "    return dict_statistics\n",
    "\n",
    "def save_result(df, y_predic, filename):\n",
    "    df_result = pd.DataFrame()\n",
    "    df_result[\"ride_id\"] = df[\"ride_id\"]\n",
    "    df_result[\"y_predic\"] = y_predic\n",
    "    \n",
    "    df_result.to_parquet(filename, engine='pyarrow', compression=None, index=False)"
   ]
  },
  {
   "cell_type": "code",
   "execution_count": 6,
   "id": "bf532ae7-1897-428c-ba0c-875ccaf7d76c",
   "metadata": {},
   "outputs": [],
   "source": [
    "def run():\n",
    "    year = 2023\n",
    "    month = 3\n",
    "    CATEGORICAL = ['PULocationID', 'DOLocationID']\n",
    "   \n",
    "    input_file = generate_filename(year, month, \"inp\")\n",
    "    output_file = generate_filename(year, month, \"out\")\n",
    "    data_fram = read_data(input_file, CATEGORICAL, year, month)\n",
    "   \n",
    "    predictions = apply_model(data_fram, CATEGORICAL)\n",
    "    print(calculate_statistics(predictions))\n",
    "\n",
    "    save_result(data_fram, predictions, output_file)\n"
   ]
  },
  {
   "cell_type": "code",
   "execution_count": 7,
   "id": "94e5782e-cd7b-40e8-b33f-2fb06d984596",
   "metadata": {},
   "outputs": [
    {
     "name": "stdout",
     "output_type": "stream",
     "text": [
      "{'std_y_predic': 6.247488852238703}\n"
     ]
    }
   ],
   "source": [
    "run()"
   ]
  }
 ],
 "metadata": {
  "kernelspec": {
   "display_name": "Python 3 (ipykernel)",
   "language": "python",
   "name": "python3"
  },
  "language_info": {
   "codemirror_mode": {
    "name": "ipython",
    "version": 3
   },
   "file_extension": ".py",
   "mimetype": "text/x-python",
   "name": "python",
   "nbconvert_exporter": "python",
   "pygments_lexer": "ipython3",
   "version": "3.12.0"
  }
 },
 "nbformat": 4,
 "nbformat_minor": 5
}
