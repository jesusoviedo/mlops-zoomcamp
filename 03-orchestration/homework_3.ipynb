{
 "cells": [
  {
   "cell_type": "code",
   "execution_count": 1,
   "id": "2cfe4c61-37dd-46bb-9317-0baf4aa09591",
   "metadata": {},
   "outputs": [
    {
     "name": "stdout",
     "output_type": "stream",
     "text": [
      "Python 3.11.7\n"
     ]
    }
   ],
   "source": [
    "!python -V"
   ]
  },
  {
   "cell_type": "code",
   "execution_count": 2,
   "id": "2de8f744-26ff-47eb-9895-0b9d65de3b39",
   "metadata": {},
   "outputs": [],
   "source": [
    "import pandas as pd\n",
    "import pickle\n",
    "import seaborn as sns\n",
    "import matplotlib.pyplot as plt\n",
    "import mlflow\n",
    "\n",
    "from sklearn.feature_extraction import DictVectorizer\n",
    "from sklearn.linear_model import LinearRegression\n",
    "from sklearn.linear_model import Lasso\n",
    "from sklearn.linear_model import Ridge\n",
    "from sklearn.metrics import mean_squared_error, root_mean_squared_error\n",
    "from mlflow import MlflowClient\n",
    "from mlflow.entities import ViewType\n",
    "\n",
    "TRACKING_URI = \"sqlite:///mlflow.db\""
   ]
  },
  {
   "cell_type": "markdown",
   "id": "8c8c67d5-6005-4527-ac74-13263ae3f319",
   "metadata": {},
   "source": [
    "## Question 1. Run Mage"
   ]
  },
  {
   "cell_type": "code",
   "execution_count": 32,
   "id": "6595266b-d08c-45cb-9f8c-a20c09878da6",
   "metadata": {},
   "outputs": [
    {
     "name": "stdout",
     "output_type": "stream",
     "text": [
      "/workspaces/mlops-zoomcamp/03-orchestration\n"
     ]
    }
   ],
   "source": [
    "!pwd"
   ]
  },
  {
   "cell_type": "code",
   "execution_count": 33,
   "id": "8855d0b5-e3ff-4bd5-a411-03d2d4185edb",
   "metadata": {},
   "outputs": [],
   "source": [
    "!mkdir homework_3"
   ]
  },
  {
   "cell_type": "code",
   "execution_count": 35,
   "id": "f8f2f993-13b2-4ea1-970e-2abfa2fdeb3c",
   "metadata": {},
   "outputs": [
    {
     "name": "stdout",
     "output_type": "stream",
     "text": [
      "total 60\n",
      "drwxrwxrwx+ 2 codespace codespace  4096 May 30 13:07 homework_3\n",
      "-rw-rw-rw-  1 codespace codespace 56021 May 30 13:06 homework_3.ipynb\n"
     ]
    }
   ],
   "source": [
    "!ls -l"
   ]
  },
  {
   "cell_type": "code",
   "execution_count": 36,
   "id": "95a64eac-9a8b-4a96-8bb1-907bcfe92c24",
   "metadata": {},
   "outputs": [
    {
     "name": "stdout",
     "output_type": "stream",
     "text": [
      "--2024-05-30 13:08:01--  https://github.com/mage-ai/mlops/archive/refs/heads/master.zip\n",
      "Resolving github.com (github.com)... 140.82.113.4\n",
      "Connecting to github.com (github.com)|140.82.113.4|:443... connected.\n",
      "HTTP request sent, awaiting response... 302 Found\n",
      "Location: https://codeload.github.com/mage-ai/mlops/zip/refs/heads/master [following]\n",
      "--2024-05-30 13:08:01--  https://codeload.github.com/mage-ai/mlops/zip/refs/heads/master\n",
      "Resolving codeload.github.com (codeload.github.com)... 140.82.112.9\n",
      "Connecting to codeload.github.com (codeload.github.com)|140.82.112.9|:443... connected.\n",
      "HTTP request sent, awaiting response... 200 OK\n",
      "Length: unspecified [application/zip]\n",
      "Saving to: ‘master.zip’\n",
      "\n",
      "master.zip              [ <=>                ]  93.72K  --.-KB/s    in 0.01s   \n",
      "\n",
      "2024-05-30 13:08:01 (7.58 MB/s) - ‘master.zip’ saved [95967]\n",
      "\n"
     ]
    }
   ],
   "source": [
    "!wget https://github.com/mage-ai/mlops/archive/refs/heads/master.zip"
   ]
  },
  {
   "cell_type": "code",
   "execution_count": 37,
   "id": "d18fc7a4-e7ba-4196-84ba-ab02bb064141",
   "metadata": {},
   "outputs": [],
   "source": [
    "!mv master.zip homework_3"
   ]
  },
  {
   "cell_type": "code",
   "execution_count": 38,
   "id": "8ef02a92-1b80-47f3-9958-716446ba7e63",
   "metadata": {},
   "outputs": [
    {
     "name": "stdout",
     "output_type": "stream",
     "text": [
      "total 96\n",
      "-rw-rw-rw- 1 codespace codespace 95967 May 30 13:08 master.zip\n"
     ]
    }
   ],
   "source": [
    "!ls -l homework_3"
   ]
  },
  {
   "cell_type": "code",
   "execution_count": 39,
   "id": "44cd3866-827e-4170-9172-b4b8f6877351",
   "metadata": {},
   "outputs": [
    {
     "name": "stdout",
     "output_type": "stream",
     "text": [
      "Archive:  homework_3/master.zip\n",
      "64ab08ebe90022cdf742dfcddb634b1b5f296945\n",
      "   creating: mlops-master/\n",
      "  inflating: mlops-master/.env.dev   \n",
      "  inflating: mlops-master/.gitignore  \n",
      "  inflating: mlops-master/Dockerfile  \n",
      "  inflating: mlops-master/README.md  \n",
      "  inflating: mlops-master/docker-compose.yml  \n",
      "   creating: mlops-master/mlops/\n",
      " extracting: mlops-master/mlops/__init__.py  \n",
      "  inflating: mlops-master/mlops/design.yaml  \n",
      "  inflating: mlops-master/mlops/metadata.yaml  \n",
      "   creating: mlops-master/mlops/presenters/\n",
      "   creating: mlops-master/mlops/presenters/overview/\n",
      "   creating: mlops-master/mlops/presenters/overview/dashboard/\n",
      "  inflating: mlops-master/mlops/presenters/overview/dashboard/block_layout.yaml  \n",
      "   creating: mlops-master/mlops/presenters/pipelines/\n",
      "   creating: mlops-master/mlops/presenters/pipelines/sklearn_training/\n",
      "   creating: mlops-master/mlops/presenters/pipelines/sklearn_training/dashboard/\n",
      "  inflating: mlops-master/mlops/presenters/pipelines/sklearn_training/dashboard/block_layout.yaml  \n",
      "   creating: mlops-master/mlops/presenters/pipelines/xgboost_training/\n",
      "   creating: mlops-master/mlops/presenters/pipelines/xgboost_training/dashboard/\n",
      "  inflating: mlops-master/mlops/presenters/pipelines/xgboost_training/dashboard/block_layout.yaml  \n",
      "  inflating: mlops-master/mlops/requirements.txt  \n",
      "  inflating: mlops-master/mlops/settings.yaml  \n",
      "   creating: mlops-master/mlops/unit_0_setup/\n",
      "  inflating: mlops-master/mlops/unit_0_setup/.gitignore  \n",
      " extracting: mlops-master/mlops/unit_0_setup/__init__.py  \n",
      "   creating: mlops-master/mlops/unit_0_setup/data_exporters/\n",
      " extracting: mlops-master/mlops/unit_0_setup/data_exporters/__init__.py  \n",
      "  inflating: mlops-master/mlops/unit_0_setup/data_exporters/export_titanic_clean.py  \n",
      "   creating: mlops-master/mlops/unit_0_setup/data_loaders/\n",
      " extracting: mlops-master/mlops/unit_0_setup/data_loaders/__init__.py  \n",
      "  inflating: mlops-master/mlops/unit_0_setup/data_loaders/load_titanic.py  \n",
      "   creating: mlops-master/mlops/unit_0_setup/pipelines/\n",
      " extracting: mlops-master/mlops/unit_0_setup/pipelines/__init__.py  \n",
      "   creating: mlops-master/mlops/unit_0_setup/pipelines/example_pipeline/\n",
      " extracting: mlops-master/mlops/unit_0_setup/pipelines/example_pipeline/__init__.py  \n",
      "  inflating: mlops-master/mlops/unit_0_setup/pipelines/example_pipeline/metadata.yaml  \n",
      "   creating: mlops-master/mlops/unit_0_setup/transformers/\n",
      " extracting: mlops-master/mlops/unit_0_setup/transformers/__init__.py  \n",
      "  inflating: mlops-master/mlops/unit_0_setup/transformers/fill_in_missing_values.py  \n",
      "   creating: mlops-master/mlops/unit_3_observability/\n",
      " extracting: mlops-master/mlops/unit_3_observability/__init__.py  \n",
      "   creating: mlops-master/mlops/unit_3_observability/charts/\n",
      " extracting: mlops-master/mlops/unit_3_observability/charts/__init__.py  \n",
      "  inflating: mlops-master/mlops/unit_3_observability/charts/completed_pipeline_runs_daily_sklearn_training_w6.py  \n",
      "  inflating: mlops-master/mlops/unit_3_observability/charts/completed_pipeline_runs_daily_xgboost_training_x4.py  \n",
      "  inflating: mlops-master/mlops/unit_3_observability/charts/distribution_of_performance_metrics.py  \n",
      "  inflating: mlops-master/mlops/unit_3_observability/charts/failed_pipeline_runs_daily_sklearn_training_v0.py  \n",
      "  inflating: mlops-master/mlops/unit_3_observability/charts/failed_pipeline_runs_daily_xgboost_training_o6.py  \n",
      "  inflating: mlops-master/mlops/unit_3_observability/charts/feature_profiles_for_ingest.py  \n",
      " extracting: mlops-master/mlops/unit_3_observability/charts/ingest_time_series_bar_chart_d1.py  \n",
      "  inflating: mlops-master/mlops/unit_3_observability/charts/missing_values_for_ingest.py  \n",
      "  inflating: mlops-master/mlops/unit_3_observability/charts/most_frequent_values_for_ingest.py  \n",
      "  inflating: mlops-master/mlops/unit_3_observability/charts/prepare_histogram_u9.py  \n",
      "  inflating: mlops-master/mlops/unit_3_observability/charts/runs_by_model__pie_chart_.py  \n",
      "  inflating: mlops-master/mlops/unit_3_observability/charts/shap_values.py  \n",
      "  inflating: mlops-master/mlops/unit_3_observability/charts/shap_values_bar.py  \n",
      "  inflating: mlops-master/mlops/unit_3_observability/charts/shap_values_force_chart.py  \n",
      "  inflating: mlops-master/mlops/unit_3_observability/charts/summary_overview_for_ingest.py  \n",
      "  inflating: mlops-master/mlops/unit_3_observability/charts/time_series__mse_.py  \n",
      "  inflating: mlops-master/mlops/unit_3_observability/charts/total_runs_by_model.py  \n",
      "  inflating: mlops-master/mlops/unit_3_observability/charts/training_metrics__rmse_.py  \n",
      "  inflating: mlops-master/mlops/unit_3_observability/charts/unique_values_for_ingest.py  \n",
      "   creating: mlops-master/mlops/unit_3_observability/custom/\n",
      " extracting: mlops-master/mlops/unit_3_observability/custom/__init__.py  \n",
      "  inflating: mlops-master/mlops/unit_3_observability/custom/ci_and_cd.py  \n",
      "  inflating: mlops-master/mlops/unit_3_observability/custom/dashboard_data_source.py  \n",
      "  inflating: mlops-master/mlops/unit_3_observability/custom/deploy.py  \n",
      "  inflating: mlops-master/mlops/unit_3_observability/custom/inference.py  \n",
      "  inflating: mlops-master/mlops/unit_3_observability/custom/infrastructure_setup.py  \n",
      "  inflating: mlops-master/mlops/unit_3_observability/custom/load_models.py  \n",
      "  inflating: mlops-master/mlops/unit_3_observability/custom/permissions.py  \n",
      "   creating: mlops-master/mlops/unit_3_observability/custom/retrain/\n",
      "  inflating: mlops-master/mlops/unit_3_observability/custom/retrain/sklearn.py  \n",
      "  inflating: mlops-master/mlops/unit_3_observability/custom/retrain/xgboost.py  \n",
      "  inflating: mlops-master/mlops/unit_3_observability/custom/teardown_deployed_resources.py  \n",
      "  inflating: mlops-master/mlops/unit_3_observability/custom/version_control.py  \n",
      "   creating: mlops-master/mlops/unit_3_observability/data_exporters/\n",
      " extracting: mlops-master/mlops/unit_3_observability/data_exporters/__init__.py  \n",
      "  inflating: mlops-master/mlops/unit_3_observability/data_exporters/build.py  \n",
      "  inflating: mlops-master/mlops/unit_3_observability/data_exporters/sklearn.py  \n",
      "  inflating: mlops-master/mlops/unit_3_observability/data_exporters/xgboost.py  \n",
      "   creating: mlops-master/mlops/unit_3_observability/data_loaders/\n",
      " extracting: mlops-master/mlops/unit_3_observability/data_loaders/__init__.py  \n",
      "  inflating: mlops-master/mlops/unit_3_observability/data_loaders/ingest.py  \n",
      "  inflating: mlops-master/mlops/unit_3_observability/global_data_products.yaml  \n",
      "   creating: mlops-master/mlops/unit_3_observability/interactions/\n",
      " extracting: mlops-master/mlops/unit_3_observability/interactions/__init__.py  \n",
      "  inflating: mlops-master/mlops/unit_3_observability/interactions/playground.yaml  \n",
      "  inflating: mlops-master/mlops/unit_3_observability/io_config.yaml  \n",
      "   creating: mlops-master/mlops/unit_3_observability/markdowns/\n",
      " extracting: mlops-master/mlops/unit_3_observability/markdowns/__init__.py  \n",
      "  inflating: mlops-master/mlops/unit_3_observability/markdowns/add_secrets_to_github_repo.md  \n",
      "  inflating: mlops-master/mlops/unit_3_observability/markdowns/cicd.md  \n",
      "  inflating: mlops-master/mlops/unit_3_observability/markdowns/create_iam_policy_to_deploy_mage.md  \n",
      "  inflating: mlops-master/mlops/unit_3_observability/markdowns/dynamic_block_info.md  \n",
      "  inflating: mlops-master/mlops/unit_3_observability/markdowns/online_inference_guide.md  \n",
      "  inflating: mlops-master/mlops/unit_3_observability/markdowns/running_operations_in_production.md  \n",
      "  inflating: mlops-master/mlops/unit_3_observability/markdowns/terraform_setup_docs.md  \n",
      " extracting: mlops-master/mlops/unit_3_observability/markdowns/version_control_docs.md  \n",
      "  inflating: mlops-master/mlops/unit_3_observability/metadata.yaml  \n",
      "   creating: mlops-master/mlops/unit_3_observability/pipelines/\n",
      " extracting: mlops-master/mlops/unit_3_observability/pipelines/__init__.py  \n",
      "   creating: mlops-master/mlops/unit_3_observability/pipelines/automatic_retraining/\n",
      " extracting: mlops-master/mlops/unit_3_observability/pipelines/automatic_retraining/__init__.py  \n",
      "  inflating: mlops-master/mlops/unit_3_observability/pipelines/automatic_retraining/metadata.yaml  \n",
      "  inflating: mlops-master/mlops/unit_3_observability/pipelines/automatic_retraining/triggers.yaml  \n",
      "   creating: mlops-master/mlops/unit_3_observability/pipelines/data_preparation/\n",
      " extracting: mlops-master/mlops/unit_3_observability/pipelines/data_preparation/__init__.py  \n",
      " extracting: mlops-master/mlops/unit_3_observability/pipelines/data_preparation/interactions.yaml  \n",
      "  inflating: mlops-master/mlops/unit_3_observability/pipelines/data_preparation/metadata.yaml  \n",
      "   creating: mlops-master/mlops/unit_3_observability/pipelines/deploying_to_production/\n",
      " extracting: mlops-master/mlops/unit_3_observability/pipelines/deploying_to_production/__init__.py  \n",
      " extracting: mlops-master/mlops/unit_3_observability/pipelines/deploying_to_production/interactions.yaml  \n",
      "  inflating: mlops-master/mlops/unit_3_observability/pipelines/deploying_to_production/metadata.yaml  \n",
      "   creating: mlops-master/mlops/unit_3_observability/pipelines/predict/\n",
      " extracting: mlops-master/mlops/unit_3_observability/pipelines/predict/__init__.py  \n",
      "  inflating: mlops-master/mlops/unit_3_observability/pipelines/predict/interactions.yaml  \n",
      "  inflating: mlops-master/mlops/unit_3_observability/pipelines/predict/metadata.yaml  \n",
      "  inflating: mlops-master/mlops/unit_3_observability/pipelines/predict/triggers.yaml  \n",
      "   creating: mlops-master/mlops/unit_3_observability/pipelines/sklearn_training/\n",
      " extracting: mlops-master/mlops/unit_3_observability/pipelines/sklearn_training/__init__.py  \n",
      " extracting: mlops-master/mlops/unit_3_observability/pipelines/sklearn_training/interactions.yaml  \n",
      "  inflating: mlops-master/mlops/unit_3_observability/pipelines/sklearn_training/metadata.yaml  \n",
      "   creating: mlops-master/mlops/unit_3_observability/pipelines/xgboost_training/\n",
      " extracting: mlops-master/mlops/unit_3_observability/pipelines/xgboost_training/__init__.py  \n",
      " extracting: mlops-master/mlops/unit_3_observability/pipelines/xgboost_training/interactions.yaml  \n",
      "  inflating: mlops-master/mlops/unit_3_observability/pipelines/xgboost_training/metadata.yaml  \n",
      "   creating: mlops-master/mlops/unit_3_observability/scratchpads/\n",
      " extracting: mlops-master/mlops/unit_3_observability/scratchpads/__init__.py  \n",
      "   creating: mlops-master/mlops/unit_3_observability/sensors/\n",
      " extracting: mlops-master/mlops/unit_3_observability/sensors/__init__.py  \n",
      "  inflating: mlops-master/mlops/unit_3_observability/sensors/detect_new_data.py  \n",
      "   creating: mlops-master/mlops/unit_3_observability/transformers/\n",
      " extracting: mlops-master/mlops/unit_3_observability/transformers/__init__.py  \n",
      "   creating: mlops-master/mlops/unit_3_observability/transformers/hyperparameter_tuning/\n",
      "  inflating: mlops-master/mlops/unit_3_observability/transformers/hyperparameter_tuning/sklearn.py  \n",
      "  inflating: mlops-master/mlops/unit_3_observability/transformers/hyperparameter_tuning/xgboost.py  \n",
      "  inflating: mlops-master/mlops/unit_3_observability/transformers/prepare.py  \n",
      "   creating: mlops-master/mlops/utils/\n",
      " extracting: mlops-master/mlops/utils/__init__.py  \n",
      "   creating: mlops-master/mlops/utils/analytics/\n",
      " extracting: mlops-master/mlops/utils/analytics/__init__.py  \n",
      "  inflating: mlops-master/mlops/utils/analytics/data.py  \n",
      "   creating: mlops-master/mlops/utils/data_preparation/\n",
      "  inflating: mlops-master/mlops/utils/data_preparation/cleaning.py  \n",
      "  inflating: mlops-master/mlops/utils/data_preparation/encoders.py  \n",
      "  inflating: mlops-master/mlops/utils/data_preparation/feature_engineering.py  \n",
      "  inflating: mlops-master/mlops/utils/data_preparation/feature_selector.py  \n",
      "  inflating: mlops-master/mlops/utils/data_preparation/splitters.py  \n",
      "   creating: mlops-master/mlops/utils/deploy/\n",
      " extracting: mlops-master/mlops/utils/deploy/__init__.py  \n",
      "  inflating: mlops-master/mlops/utils/deploy/aws.py  \n",
      "  inflating: mlops-master/mlops/utils/deploy/github.py  \n",
      "   creating: mlops-master/mlops/utils/deploy/terraform/\n",
      " extracting: mlops-master/mlops/utils/deploy/terraform/__init__.py  \n",
      "  inflating: mlops-master/mlops/utils/deploy/terraform/cli.py  \n",
      "  inflating: mlops-master/mlops/utils/deploy/terraform/constants.py  \n",
      "  inflating: mlops-master/mlops/utils/deploy/terraform/env_vars.py  \n",
      "  inflating: mlops-master/mlops/utils/deploy/terraform/main_variables.py  \n",
      "  inflating: mlops-master/mlops/utils/deploy/terraform/parsers.py  \n",
      "  inflating: mlops-master/mlops/utils/deploy/terraform/setup.py  \n",
      "  inflating: mlops-master/mlops/utils/deploy/terraform/variables.py  \n",
      "   creating: mlops-master/mlops/utils/hyperparameters/\n",
      " extracting: mlops-master/mlops/utils/hyperparameters/__init__.py  \n",
      "  inflating: mlops-master/mlops/utils/hyperparameters/shared.py  \n",
      "  inflating: mlops-master/mlops/utils/logging.py  \n",
      "   creating: mlops-master/mlops/utils/models/\n",
      " extracting: mlops-master/mlops/utils/models/__init__.py  \n",
      "  inflating: mlops-master/mlops/utils/models/sklearn.py  \n",
      "  inflating: mlops-master/mlops/utils/models/xgboost.py  \n",
      "   creating: mlops-master/scripts/\n",
      "  inflating: mlops-master/scripts/start.sh  \n",
      "   creating: mlops-master/terraform/\n",
      "   creating: mlops-master/terraform/aws/\n",
      "  inflating: mlops-master/terraform/aws/alb.tf  \n",
      "  inflating: mlops-master/terraform/aws/ci_cd.tf  \n",
      "  inflating: mlops-master/terraform/aws/db.tf  \n",
      "  inflating: mlops-master/terraform/aws/ecr.tf  \n",
      "  inflating: mlops-master/terraform/aws/efs.tf  \n",
      "  inflating: mlops-master/terraform/aws/env_vars.json  \n",
      "  inflating: mlops-master/terraform/aws/iam.tf  \n",
      "  inflating: mlops-master/terraform/aws/lambda.tf  \n",
      "  inflating: mlops-master/terraform/aws/main.tf  \n",
      "  inflating: mlops-master/terraform/aws/networking.tf  \n",
      "   creating: mlops-master/terraform/aws/policies/\n",
      "  inflating: mlops-master/terraform/aws/policies/GitHubActionsDeploy.json  \n",
      "  inflating: mlops-master/terraform/aws/policies/TerraformApplyDeployMage.json  \n",
      "  inflating: mlops-master/terraform/aws/policies/TerraformDestroyDeleteResources.json  \n",
      "   creating: mlops-master/terraform/aws/python/\n",
      "  inflating: mlops-master/terraform/aws/python/event_handler.py  \n",
      "   creating: mlops-master/terraform/aws/scripts/\n",
      "  inflating: mlops-master/terraform/aws/scripts/create-github-actions-workflow.sh  \n",
      "  inflating: mlops-master/terraform/aws/variables.tf  \n",
      "  inflating: mlops-master/terraform/aws/vpc.tf  \n"
     ]
    }
   ],
   "source": [
    "!unzip homework_3/master.zip"
   ]
  },
  {
   "cell_type": "code",
   "execution_count": 40,
   "id": "4d2f7568-d5ce-45fa-82c7-24d2461be37c",
   "metadata": {},
   "outputs": [],
   "source": [
    "!rm -r homework_3/master.zip"
   ]
  },
  {
   "cell_type": "code",
   "execution_count": 43,
   "id": "e1daf4c8-8773-4f41-b8c1-e0d6fd8c01d7",
   "metadata": {},
   "outputs": [
    {
     "name": "stdout",
     "output_type": "stream",
     "text": [
      "total 0\n"
     ]
    }
   ],
   "source": [
    "!ls -l homework_3"
   ]
  },
  {
   "cell_type": "code",
   "execution_count": 44,
   "id": "cef25108-8e2a-4f4a-92cc-2c84456635f5",
   "metadata": {},
   "outputs": [
    {
     "name": "stdout",
     "output_type": "stream",
     "text": [
      "total 64\n",
      "drwxrwxrwx+ 2 codespace codespace  4096 May 30 13:08 homework_3\n",
      "-rw-rw-rw-  1 codespace codespace 54160 May 30 13:11 homework_3.ipynb\n",
      "drwxr-xr-x+ 5 codespace codespace  4096 May 29 14:22 mlops-master\n"
     ]
    }
   ],
   "source": [
    "!ls -l"
   ]
  },
  {
   "attachments": {
    "38d7675f-9dfb-4cb6-aea6-50cf969730d0.png": {
     "image/png": "[encoded data removed]"
    }
   },
   "cell_type": "markdown",
   "id": "6553a702-7979-43d7-af90-722989907d8b",
   "metadata": {},
   "source": [
    "### Run this command in the terminal\n",
    "```\n",
    "cd mlops-master\n",
    "./scripts/start.sh\n",
    "```\n",
    "\n",
    "Go to URL http://127.0.0.1:6789\n",
    "\n",
    "\n",
    "![image.png](attachment:38d7675f-9dfb-4cb6-aea6-50cf969730d0.png)"
   ]
  },
  {
   "cell_type": "markdown",
   "id": "2e6af3b1-489f-4abc-acbe-ada841fce574",
   "metadata": {},
   "source": [
    "## Q2. Download and preprocess the data"
   ]
  },
  {
   "cell_type": "code",
   "execution_count": 4,
   "id": "e203f3fd-c52f-483e-b90e-30f9a23bb2fb",
   "metadata": {
    "scrolled": true
   },
   "outputs": [
    {
     "name": "stdout",
     "output_type": "stream",
     "text": [
      "/workspaces/mlops-zoomcamp/02-experiment-tracking\n"
     ]
    }
   ],
   "source": [
    "!pwd"
   ]
  },
  {
   "cell_type": "code",
   "execution_count": 5,
   "id": "0033e8c6-bc1d-4029-b435-e4dfb0479c42",
   "metadata": {},
   "outputs": [],
   "source": [
    "!mkdir data"
   ]
  },
  {
   "cell_type": "code",
   "execution_count": 7,
   "id": "888fa2b5-7b01-46af-bee2-24d2ee48127a",
   "metadata": {},
   "outputs": [
    {
     "name": "stdout",
     "output_type": "stream",
     "text": [
      "data  homework_2.ipynb\tpractica\n"
     ]
    }
   ],
   "source": [
    "!ls"
   ]
  },
  {
   "cell_type": "code",
   "execution_count": 8,
   "id": "79731b40-6dce-4e8b-8820-35c2fde73258",
   "metadata": {},
   "outputs": [
    {
     "name": "stdout",
     "output_type": "stream",
     "text": [
      "--2024-05-28 15:24:41--  https://d37ci6vzurychx.cloudfront.net/trip-data/green_tripdata_2023-01.parquet\n",
      "Resolving d37ci6vzurychx.cloudfront.net (d37ci6vzurychx.cloudfront.net)... 13.32.192.124, 13.32.192.2, 13.32.192.116, ...\n",
      "Connecting to d37ci6vzurychx.cloudfront.net (d37ci6vzurychx.cloudfront.net)|13.32.192.124|:443... connected.\n",
      "HTTP request sent, awaiting response... 200 OK\n",
      "Length: 1427002 (1.4M) [binary/octet-stream]\n",
      "Saving to: ‘green_tripdata_2023-01.parquet’\n",
      "\n",
      "green_tripdata_2023 100%[===================>]   1.36M  --.-KB/s    in 0.07s   \n",
      "\n",
      "2024-05-28 15:24:41 (19.5 MB/s) - ‘green_tripdata_2023-01.parquet’ saved [1427002/1427002]\n",
      "\n",
      "--2024-05-28 15:24:42--  https://d37ci6vzurychx.cloudfront.net/trip-data/green_tripdata_2023-02.parquet\n",
      "Resolving d37ci6vzurychx.cloudfront.net (d37ci6vzurychx.cloudfront.net)... 13.32.192.116, 13.32.192.2, 13.32.192.124, ...\n",
      "Connecting to d37ci6vzurychx.cloudfront.net (d37ci6vzurychx.cloudfront.net)|13.32.192.116|:443... connected.\n",
      "HTTP request sent, awaiting response... 200 OK\n",
      "Length: 1533740 (1.5M) [binary/octet-stream]\n",
      "Saving to: ‘green_tripdata_2023-02.parquet’\n",
      "\n",
      "green_tripdata_2023 100%[===================>]   1.46M  --.-KB/s    in 0.03s   \n",
      "\n",
      "2024-05-28 15:24:42 (46.2 MB/s) - ‘green_tripdata_2023-02.parquet’ saved [1533740/1533740]\n",
      "\n",
      "--2024-05-28 15:24:42--  https://d37ci6vzurychx.cloudfront.net/trip-data/green_tripdata_2023-03.parquet\n",
      "Resolving d37ci6vzurychx.cloudfront.net (d37ci6vzurychx.cloudfront.net)... 13.32.192.2, 13.32.192.116, 13.32.192.190, ...\n",
      "Connecting to d37ci6vzurychx.cloudfront.net (d37ci6vzurychx.cloudfront.net)|13.32.192.2|:443... connected.\n",
      "HTTP request sent, awaiting response... 200 OK\n",
      "Length: 1730999 (1.7M) [binary/octet-stream]\n",
      "Saving to: ‘green_tripdata_2023-03.parquet’\n",
      "\n",
      "green_tripdata_2023 100%[===================>]   1.65M  --.-KB/s    in 0.05s   \n",
      "\n",
      "2024-05-28 15:24:42 (32.1 MB/s) - ‘green_tripdata_2023-03.parquet’ saved [1730999/1730999]\n",
      "\n"
     ]
    }
   ],
   "source": [
    "!wget https://d37ci6vzurychx.cloudfront.net/trip-data/green_tripdata_2023-01.parquet\n",
    "!wget https://d37ci6vzurychx.cloudfront.net/trip-data/green_tripdata_2023-02.parquet\n",
    "!wget https://d37ci6vzurychx.cloudfront.net/trip-data/green_tripdata_2023-03.parquet"
   ]
  },
  {
   "cell_type": "code",
   "execution_count": 14,
   "id": "2414e571-d1f2-4999-9269-7abef8f3ef71",
   "metadata": {},
   "outputs": [
    {
     "name": "stdout",
     "output_type": "stream",
     "text": [
      "total 4632\n",
      "drwxrwxrwx+ 2 codespace codespace    4096 May 28 15:22 data\n",
      "-rw-rw-rw-  1 codespace codespace 1427002 Mar 20  2023 green_tripdata_2023-01.parquet\n",
      "-rw-rw-rw-  1 codespace codespace 1533740 May  1  2023 green_tripdata_2023-02.parquet\n",
      "-rw-rw-rw-  1 codespace codespace 1730999 May 19  2023 green_tripdata_2023-03.parquet\n",
      "-rw-rw-rw-  1 codespace codespace   34127 May 28 15:25 homework_2.ipynb\n",
      "drwxrwxrwx+ 2 codespace codespace    4096 May 28 15:21 practica\n"
     ]
    }
   ],
   "source": [
    "!ls -l"
   ]
  },
  {
   "cell_type": "code",
   "execution_count": 15,
   "id": "f22ddf24-109f-497a-ab79-13d48e96151b",
   "metadata": {},
   "outputs": [],
   "source": [
    "! mv green_tripdata_2023-01.parquet data/\n",
    "! mv green_tripdata_2023-02.parquet data/\n",
    "! mv green_tripdata_2023-03.parquet data/"
   ]
  },
  {
   "cell_type": "code",
   "execution_count": 16,
   "id": "760e7919-3752-416e-bc45-18693600c0bc",
   "metadata": {
    "scrolled": true
   },
   "outputs": [
    {
     "name": "stdout",
     "output_type": "stream",
     "text": [
      "total 4588\n",
      "-rw-rw-rw- 1 codespace codespace 1427002 Mar 20  2023 green_tripdata_2023-01.parquet\n",
      "-rw-rw-rw- 1 codespace codespace 1533740 May  1  2023 green_tripdata_2023-02.parquet\n",
      "-rw-rw-rw- 1 codespace codespace 1730999 May 19  2023 green_tripdata_2023-03.parquet\n"
     ]
    }
   ],
   "source": [
    "!ls -l data/"
   ]
  },
  {
   "cell_type": "code",
   "execution_count": 17,
   "id": "f7f0a995-71d8-4e97-879b-b27614df2eae",
   "metadata": {},
   "outputs": [
    {
     "name": "stdout",
     "output_type": "stream",
     "text": [
      "--2024-05-28 15:26:36--  https://raw.githubusercontent.com/DataTalksClub/mlops-zoomcamp/main/cohorts/2024/02-experiment-tracking/homework/preprocess_data.py\n",
      "Resolving raw.githubusercontent.com (raw.githubusercontent.com)... 185.199.111.133, 185.199.108.133, 185.199.109.133, ...\n",
      "Connecting to raw.githubusercontent.com (raw.githubusercontent.com)|185.199.111.133|:443... connected.\n",
      "HTTP request sent, awaiting response... 200 OK\n",
      "Length: 2510 (2.5K) [text/plain]\n",
      "Saving to: ‘preprocess_data.py’\n",
      "\n",
      "preprocess_data.py  100%[===================>]   2.45K  --.-KB/s    in 0s      \n",
      "\n",
      "2024-05-28 15:26:36 (42.6 MB/s) - ‘preprocess_data.py’ saved [2510/2510]\n",
      "\n",
      "total 48\n",
      "drwxrwxrwx+ 2 codespace codespace  4096 May 28 15:26 data\n",
      "-rw-rw-rw-  1 codespace codespace 34127 May 28 15:25 homework_2.ipynb\n",
      "drwxrwxrwx+ 2 codespace codespace  4096 May 28 15:21 practica\n",
      "-rw-rw-rw-  1 codespace codespace  2510 May 28 15:26 preprocess_data.py\n"
     ]
    }
   ],
   "source": [
    "!wget https://raw.githubusercontent.com/DataTalksClub/mlops-zoomcamp/main/cohorts/2024/02-experiment-tracking/homework/preprocess_data.py\n",
    "!ls -l"
   ]
  },
  {
   "cell_type": "code",
   "execution_count": 18,
   "id": "00a6c0cb-9da3-4a6b-9443-f238eb19e68b",
   "metadata": {},
   "outputs": [],
   "source": [
    "!python preprocess_data.py --raw_data_path data --dest_path ./output"
   ]
  },
  {
   "cell_type": "code",
   "execution_count": 19,
   "id": "5f52d225-43fa-404b-8b42-f064fa2bc812",
   "metadata": {},
   "outputs": [
    {
     "name": "stdout",
     "output_type": "stream",
     "text": [
      "total 7016\n",
      "-rw-rw-rw- 1 codespace codespace  131004 May 28 15:27 dv.pkl\n",
      "-rw-rw-rw- 1 codespace codespace 2458697 May 28 15:27 test.pkl\n",
      "-rw-rw-rw- 1 codespace codespace 2374517 May 28 15:27 train.pkl\n",
      "-rw-rw-rw- 1 codespace codespace 2215823 May 28 15:27 val.pkl\n"
     ]
    }
   ],
   "source": [
    "!ls -l output"
   ]
  },
  {
   "cell_type": "markdown",
   "id": "3652c41b-19bb-455a-8e09-4ce2e8942c03",
   "metadata": {},
   "source": [
    "## Q3. Train a model with autolog"
   ]
  },
  {
   "cell_type": "code",
   "execution_count": 20,
   "id": "d86ae8ed-a799-4efb-8e0b-58ae2269a4c0",
   "metadata": {},
   "outputs": [
    {
     "name": "stdout",
     "output_type": "stream",
     "text": [
      "--2024-05-28 15:28:14--  https://raw.githubusercontent.com/DataTalksClub/mlops-zoomcamp/main/cohorts/2024/02-experiment-tracking/homework/train.py\n",
      "Resolving raw.githubusercontent.com (raw.githubusercontent.com)... 185.199.111.133, 185.199.108.133, 185.199.109.133, ...\n",
      "Connecting to raw.githubusercontent.com (raw.githubusercontent.com)|185.199.111.133|:443... connected.\n",
      "HTTP request sent, awaiting response... 200 OK\n",
      "Length: 790 [text/plain]\n",
      "Saving to: ‘train.py’\n",
      "\n",
      "train.py            100%[===================>]     790  --.-KB/s    in 0s      \n",
      "\n",
      "2024-05-28 15:28:14 (49.2 MB/s) - ‘train.py’ saved [790/790]\n",
      "\n",
      "total 56\n",
      "drwxrwxrwx+ 2 codespace codespace  4096 May 28 15:26 data\n",
      "-rw-rw-rw-  1 codespace codespace 33976 May 28 15:27 homework_2.ipynb\n",
      "drwxrwxrwx+ 2 codespace codespace  4096 May 28 15:27 output\n",
      "drwxrwxrwx+ 2 codespace codespace  4096 May 28 15:21 practica\n",
      "-rw-rw-rw-  1 codespace codespace  2510 May 27 14:05 preprocess_data.py\n",
      "-rw-rw-rw-  1 codespace codespace   790 May 28 15:28 train.py\n"
     ]
    }
   ],
   "source": [
    "!wget https://raw.githubusercontent.com/DataTalksClub/mlops-zoomcamp/main/cohorts/2024/02-experiment-tracking/homework/train.py\n",
    "!ls -l"
   ]
  },
  {
   "cell_type": "markdown",
   "id": "429221ed-9319-47d6-99ff-6aaa8c2128f9",
   "metadata": {},
   "source": [
    "### Run this command in the terminal\n",
    "```\n",
    "mlflow ui --backend-store-uri sqlite:///mlflow.db\n",
    "```"
   ]
  },
  {
   "cell_type": "code",
   "execution_count": 21,
   "id": "b25a118d-17e4-4628-b77e-137f7f337d23",
   "metadata": {},
   "outputs": [
    {
     "name": "stdout",
     "output_type": "stream",
     "text": [
      "2024/05/28 15:31:59 INFO mlflow.tracking.fluent: Experiment with name 'homework_2' does not exist. Creating a new experiment.\n",
      "2024/05/28 15:31:59 WARNING mlflow.utils.autologging_utils: You are using an unsupported version of sklearn. If you encounter errors during autologging, try upgrading / downgrading sklearn to a supported version, or try upgrading MLflow.\n",
      "2024/05/28 15:32:00 WARNING mlflow.sklearn: Failed to log training dataset information to MLflow Tracking. Reason: 'numpy.ndarray' object has no attribute 'toarray'\n",
      "2024/05/28 15:32:13 WARNING mlflow.utils.autologging_utils: MLflow autologging encountered a warning: \"/home/codespace/anaconda3/envs/mlops_2024/lib/python3.11/site-packages/_distutils_hack/__init__.py:26: UserWarning: Setuptools is replacing distutils.\"\n"
     ]
    }
   ],
   "source": [
    "!python train.py"
   ]
  },
  {
   "cell_type": "code",
   "execution_count": 22,
   "id": "cf73f317-e66f-448b-aa69-4a0f5f36a55c",
   "metadata": {},
   "outputs": [
    {
     "name": "stdout",
     "output_type": "stream",
     "text": [
      "<Experiment: artifact_location='mlflow-artifacts:/1', creation_time=1716910319322, experiment_id='1', last_update_time=1716910319322, lifecycle_stage='active', name='homework_2', tags={}>\n",
      "\n",
      "<Experiment: artifact_location='mlflow-artifacts:/0', creation_time=1716910191707, experiment_id='0', last_update_time=1716910191707, lifecycle_stage='active', name='Default', tags={}>\n",
      "\n"
     ]
    }
   ],
   "source": [
    "client = MlflowClient(tracking_uri=TRACKING_URI)\n",
    "\n",
    "all_experiments = client.search_experiments()\n",
    "\n",
    "for experiments in all_experiments:\n",
    "    print(experiments, end=\"\\n\\n\")\n"
   ]
  },
  {
   "cell_type": "code",
   "execution_count": 23,
   "id": "0b76f50d-453a-4a2c-ab8d-def34505cd94",
   "metadata": {},
   "outputs": [
    {
     "name": "stdout",
     "output_type": "stream",
     "text": [
      "<Run: data=<RunData: metrics={'training_mean_absolute_error': 3.4244701942312354,\n",
      " 'training_mean_squared_error': 27.083054499499358,\n",
      " 'training_r2_score': 0.6673983775155525,\n",
      " 'training_root_mean_squared_error': 5.204138209108148,\n",
      " 'training_score': 0.6673983775155525}, params={'bootstrap': 'True',\n",
      " 'ccp_alpha': '0.0',\n",
      " 'criterion': 'squared_error',\n",
      " 'max_depth': '10',\n",
      " 'max_features': '1.0',\n",
      " 'max_leaf_nodes': 'None',\n",
      " 'max_samples': 'None',\n",
      " 'min_impurity_decrease': '0.0',\n",
      " 'min_samples_leaf': '1',\n",
      " 'min_samples_split': '2',\n",
      " 'min_weight_fraction_leaf': '0.0',\n",
      " 'monotonic_cst': 'None',\n",
      " 'n_estimators': '100',\n",
      " 'n_jobs': 'None',\n",
      " 'oob_score': 'False',\n",
      " 'random_state': '0',\n",
      " 'verbose': '0',\n",
      " 'warm_start': 'False'}, tags={'estimator_class': 'sklearn.ensemble._forest.RandomForestRegressor',\n",
      " 'estimator_name': 'RandomForestRegressor',\n",
      " 'mlflow.log-model.history': '[{\"run_id\": \"195568ec67154979b1b1200431ca6d4e\", '\n",
      "                             '\"artifact_path\": \"model\", \"utc_time_created\": '\n",
      "                             '\"2024-05-28 15:32:11.703480\", \"flavors\": '\n",
      "                             '{\"python_function\": {\"model_path\": \"model.pkl\", '\n",
      "                             '\"predict_fn\": \"predict\", \"loader_module\": '\n",
      "                             '\"mlflow.sklearn\", \"python_version\": \"3.11.7\", '\n",
      "                             '\"env\": {\"conda\": \"conda.yaml\", \"virtualenv\": '\n",
      "                             '\"python_env.yaml\"}}, \"sklearn\": '\n",
      "                             '{\"pickled_model\": \"model.pkl\", '\n",
      "                             '\"sklearn_version\": \"1.5.0\", '\n",
      "                             '\"serialization_format\": \"cloudpickle\", \"code\": '\n",
      "                             'null}}, \"model_uuid\": '\n",
      "                             '\"7042d7b38abc432c8203a30c715ff35b\", '\n",
      "                             '\"mlflow_version\": \"2.13.0\", \"signature\": '\n",
      "                             '{\"inputs\": \"[{\\\\\"type\\\\\": \\\\\"tensor\\\\\", '\n",
      "                             '\\\\\"tensor-spec\\\\\": {\\\\\"dtype\\\\\": \\\\\"float64\\\\\", '\n",
      "                             '\\\\\"shape\\\\\": [-1, 5702]}}]\", \"outputs\": '\n",
      "                             '\"[{\\\\\"type\\\\\": \\\\\"tensor\\\\\", \\\\\"tensor-spec\\\\\": '\n",
      "                             '{\\\\\"dtype\\\\\": \\\\\"float64\\\\\", \\\\\"shape\\\\\": '\n",
      "                             '[-1]}}]\", \"params\": null}, \"model_size_bytes\": '\n",
      "                             '4528787}]',\n",
      " 'mlflow.runName': 'dapper-asp-615',\n",
      " 'mlflow.source.git.commit': '995794de893fd35142109d87daccc892b11ed003',\n",
      " 'mlflow.source.name': 'train.py',\n",
      " 'mlflow.source.type': 'LOCAL',\n",
      " 'mlflow.user': 'codespace'}>, info=<RunInfo: artifact_uri='mlflow-artifacts:/1/195568ec67154979b1b1200431ca6d4e/artifacts', end_time=1716910335320, experiment_id='1', lifecycle_stage='active', run_id='195568ec67154979b1b1200431ca6d4e', run_name='dapper-asp-615', run_uuid='195568ec67154979b1b1200431ca6d4e', start_time=1716910320119, status='FINISHED', user_id='codespace'>, inputs=<RunInputs: dataset_inputs=[<DatasetInput: dataset=<Dataset: digest='7edda543', name='dataset', profile=('{\"features_shape\": [62574, 5702], \"features_size\": 356796948, '\n",
      " '\"features_nbytes\": 2854375584}'), schema=('{\"mlflow_tensorspec\": {\"features\": \"[{\\\\\"type\\\\\": \\\\\"tensor\\\\\", '\n",
      " '\\\\\"tensor-spec\\\\\": {\\\\\"dtype\\\\\": \\\\\"float64\\\\\", \\\\\"shape\\\\\": [-1, 5702]}}]\", '\n",
      " '\"targets\": null}}'), source=('{\"tags\": {\"mlflow.user\": \"codespace\", \"mlflow.source.name\": \"train.py\", '\n",
      " '\"mlflow.source.type\": \"LOCAL\", \"mlflow.source.git.commit\": '\n",
      " '\"995794de893fd35142109d87daccc892b11ed003\"}}'), source_type='code'>, tags=[<InputTag: key='mlflow.data.context', value='eval'>]>]>>\n"
     ]
    }
   ],
   "source": [
    "runs = client.search_runs(\n",
    "    experiment_ids='1',\n",
    "    filter_string=\"\",\n",
    "    run_view_type=ViewType.ACTIVE_ONLY,\n",
    "    max_results=5,\n",
    "    #order_by=[\"metrics.training_root_mean_squared_error ASC\"]\n",
    ")\n",
    "\n",
    "for run in runs:\n",
    "    print(run)"
   ]
  },
  {
   "cell_type": "code",
   "execution_count": 24,
   "id": "5bc6c592-4d94-4486-9a1e-c5f0505f0615",
   "metadata": {},
   "outputs": [
    {
     "name": "stdout",
     "output_type": "stream",
     "text": [
      "run id: 195568ec67154979b1b1200431ca6d4e, rmse: 5.2041, min_samples_split: 2\n"
     ]
    }
   ],
   "source": [
    "for run in runs:\n",
    "    print(f\"run id: {run.info.run_id}, rmse: {run.data.metrics['training_root_mean_squared_error']:.4f}, min_samples_split: {run.data.params['min_samples_split']}\")"
   ]
  },
  {
   "cell_type": "markdown",
   "id": "4d8c2427-a3a6-412f-b278-e3bc2c545afc",
   "metadata": {},
   "source": [
    "## Q4. Launch the tracking server locally"
   ]
  },
  {
   "cell_type": "code",
   "execution_count": 25,
   "id": "5f782459-22f0-4ca0-956f-c8188b279e2a",
   "metadata": {},
   "outputs": [
    {
     "name": "stdout",
     "output_type": "stream",
     "text": [
      "/workspaces/mlops-zoomcamp/02-experiment-tracking\n"
     ]
    }
   ],
   "source": [
    "!pwd"
   ]
  },
  {
   "cell_type": "markdown",
   "id": "e4093466-1682-4067-abda-c050d6f06362",
   "metadata": {
    "scrolled": true
   },
   "source": [
    "### Run this command in the terminal\n",
    "```\n",
    "mlflow server --backend-store-uri sqlite:///mlflow.db --default-artifact-root ./artifacts\n",
    "```"
   ]
  },
  {
   "cell_type": "markdown",
   "id": "69e44baa-aca4-45e3-b622-cc53a43d8378",
   "metadata": {},
   "source": [
    "## Q5. Tune model hyperparameters"
   ]
  },
  {
   "cell_type": "code",
   "execution_count": 26,
   "id": "0934d0ff-342a-43e7-895b-db978b871061",
   "metadata": {},
   "outputs": [
    {
     "name": "stdout",
     "output_type": "stream",
     "text": [
      "--2024-05-28 15:37:06--  https://raw.githubusercontent.com/DataTalksClub/mlops-zoomcamp/main/cohorts/2024/02-experiment-tracking/homework/hpo.py\n",
      "Resolving raw.githubusercontent.com (raw.githubusercontent.com)... 185.199.111.133, 185.199.109.133, 185.199.108.133, ...\n",
      "Connecting to raw.githubusercontent.com (raw.githubusercontent.com)|185.199.111.133|:443... connected.\n",
      "HTTP request sent, awaiting response... 200 OK\n",
      "Length: 1841 (1.8K) [text/plain]\n",
      "Saving to: ‘hpo.py’\n",
      "\n",
      "hpo.py              100%[===================>]   1.80K  --.-KB/s    in 0s      \n",
      "\n",
      "2024-05-28 15:37:06 (35.4 MB/s) - ‘hpo.py’ saved [1841/1841]\n",
      "\n",
      "total 288\n",
      "drwxrwxrwx+ 2 codespace codespace   4096 May 28 15:36 artifacts\n",
      "drwxrwxrwx+ 2 codespace codespace   4096 May 28 15:26 data\n",
      "-rw-rw-rw-  1 codespace codespace  33685 May 28 15:35 homework_2.ipynb\n",
      "-rw-rw-rw-  1 codespace codespace   1841 May 28 15:37 hpo.py\n",
      "drwxrwxrwx+ 3 codespace codespace   4096 May 28 15:32 mlartifacts\n",
      "-rw-r--r--  1 codespace codespace 217088 May 28 15:32 mlflow.db\n",
      "drwxrwxrwx+ 2 codespace codespace   4096 May 28 15:32 mlruns\n",
      "drwxrwxrwx+ 2 codespace codespace   4096 May 28 15:27 output\n",
      "drwxrwxrwx+ 2 codespace codespace   4096 May 28 15:21 practica\n",
      "-rw-rw-rw-  1 codespace codespace   2510 May 27 14:05 preprocess_data.py\n",
      "-rw-rw-rw-  1 codespace codespace   1001 May 28 13:37 train.py\n"
     ]
    }
   ],
   "source": [
    "!wget https://raw.githubusercontent.com/DataTalksClub/mlops-zoomcamp/main/cohorts/2024/02-experiment-tracking/homework/hpo.py\n",
    "!ls -l"
   ]
  },
  {
   "cell_type": "code",
   "execution_count": 27,
   "id": "7fe4776d-ed60-4a08-b798-c155a2626abd",
   "metadata": {},
   "outputs": [
    {
     "name": "stdout",
     "output_type": "stream",
     "text": [
      "2024/05/28 15:39:09 INFO mlflow.tracking.fluent: Experiment with name 'random-forest-hyperopt' does not exist. Creating a new experiment.\n",
      "100%|██████████| 15/15 [01:01<00:00,  4.07s/trial, best loss: 5.335419588556921]\n"
     ]
    }
   ],
   "source": [
    "!python hpo.py"
   ]
  },
  {
   "cell_type": "code",
   "execution_count": 28,
   "id": "a8b5cd3d-cd20-43ea-b4d5-eb0cf2e5a216",
   "metadata": {},
   "outputs": [
    {
     "name": "stdout",
     "output_type": "stream",
     "text": [
      "<Experiment: artifact_location='/workspaces/mlops-zoomcamp/02-experiment-tracking/artifacts/2', creation_time=1716910749068, experiment_id='2', last_update_time=1716910749068, lifecycle_stage='active', name='random-forest-hyperopt', tags={}>\n",
      "\n",
      "<Experiment: artifact_location='mlflow-artifacts:/1', creation_time=1716910319322, experiment_id='1', last_update_time=1716910319322, lifecycle_stage='active', name='homework_2', tags={}>\n",
      "\n",
      "<Experiment: artifact_location='mlflow-artifacts:/0', creation_time=1716910191707, experiment_id='0', last_update_time=1716910191707, lifecycle_stage='active', name='Default', tags={}>\n",
      "\n"
     ]
    }
   ],
   "source": [
    "client = MlflowClient(tracking_uri=TRACKING_URI)\n",
    "\n",
    "all_experiments = client.search_experiments()\n",
    "\n",
    "for experiments in all_experiments:\n",
    "    print(experiments, end=\"\\n\\n\")"
   ]
  },
  {
   "cell_type": "code",
   "execution_count": 31,
   "id": "9729bc87-d2ad-42b3-8ce9-f7be80518710",
   "metadata": {},
   "outputs": [],
   "source": [
    "runs = client.search_runs(\n",
    "    experiment_ids='2',\n",
    "    filter_string=\"\",\n",
    "    run_view_type=ViewType.ACTIVE_ONLY,\n",
    "    max_results=4,\n",
    "    order_by=[\"metrics.rmse ASC\"]\n",
    ")"
   ]
  },
  {
   "cell_type": "code",
   "execution_count": 32,
   "id": "e0a98b15-f02d-4a82-988a-c514517c2932",
   "metadata": {},
   "outputs": [
    {
     "name": "stdout",
     "output_type": "stream",
     "text": [
      "run id: 23eea0670bee43368624f68474525578, run name: stylish-cat-847\n",
      "\trmse: 5.3354\n",
      "\tparams: {'max_depth': '19', 'min_samples_leaf': '2', 'min_samples_split': '2', 'n_estimators': '11', 'random_state': '42'}\n",
      "\n",
      "run id: da524a7ac3f648ddb620dec4ef792664, run name: gaudy-gnu-606\n",
      "\trmse: 5.3547\n",
      "\tparams: {'max_depth': '15', 'min_samples_leaf': '2', 'min_samples_split': '3', 'n_estimators': '40', 'random_state': '42'}\n",
      "\n",
      "run id: e4a8dc0a7df84bd99e1cb0ea15997aaf, run name: carefree-duck-743\n",
      "\trmse: 5.3550\n",
      "\tparams: {'max_depth': '20', 'min_samples_leaf': '1', 'min_samples_split': '9', 'n_estimators': '19', 'random_state': '42'}\n",
      "\n",
      "run id: 7b69efd69a174404ab117490f0d09d24, run name: carefree-bat-43\n",
      "\trmse: 5.3575\n",
      "\tparams: {'max_depth': '14', 'min_samples_leaf': '3', 'min_samples_split': '4', 'n_estimators': '26', 'random_state': '42'}\n",
      "\n"
     ]
    }
   ],
   "source": [
    "for run in runs:\n",
    "    print(f\"run id: {run.info.run_id}, run name: {run.info.run_name}\\n\\trmse: {run.data.metrics['rmse']:.4f}\\n\\tparams: {run.data.params}\", end=\"\\n\\n\")"
   ]
  },
  {
   "cell_type": "markdown",
   "id": "0aba952c-b8da-4358-9c1a-6f720106a9e3",
   "metadata": {},
   "source": [
    "## Q6. Promote the best model to the model registry"
   ]
  },
  {
   "cell_type": "code",
   "execution_count": 33,
   "id": "ecf2696c-041c-4e3f-9b61-f5a666bdce0d",
   "metadata": {},
   "outputs": [
    {
     "name": "stdout",
     "output_type": "stream",
     "text": [
      "--2024-05-28 15:43:36--  https://raw.githubusercontent.com/DataTalksClub/mlops-zoomcamp/main/cohorts/2024/02-experiment-tracking/homework/register_model.py\n",
      "Resolving raw.githubusercontent.com (raw.githubusercontent.com)... 185.199.108.133, 185.199.109.133, 185.199.110.133, ...\n",
      "Connecting to raw.githubusercontent.com (raw.githubusercontent.com)|185.199.108.133|:443... connected.\n",
      "HTTP request sent, awaiting response... 200 OK\n",
      "Length: 2502 (2.4K) [text/plain]\n",
      "Saving to: ‘register_model.py’\n",
      "\n",
      "register_model.py   100%[===================>]   2.44K  --.-KB/s    in 0s      \n",
      "\n",
      "2024-05-28 15:43:36 (22.7 MB/s) - ‘register_model.py’ saved [2502/2502]\n",
      "\n",
      "total 324\n",
      "drwxrwxrwx+ 2 codespace codespace   4096 May 28 15:36 artifacts\n",
      "drwxrwxrwx+ 2 codespace codespace   4096 May 28 15:26 data\n",
      "-rw-rw-rw-  1 codespace codespace  33522 May 28 15:41 homework_2.ipynb\n",
      "-rw-rw-rw-  1 codespace codespace   1996 May 28 15:38 hpo.py\n",
      "drwxrwxrwx+ 3 codespace codespace   4096 May 28 15:32 mlartifacts\n",
      "-rw-r--r--  1 codespace codespace 249856 May 28 15:40 mlflow.db\n",
      "drwxrwxrwx+ 2 codespace codespace   4096 May 28 15:32 mlruns\n",
      "drwxrwxrwx+ 2 codespace codespace   4096 May 28 15:27 output\n",
      "drwxrwxrwx+ 2 codespace codespace   4096 May 28 15:21 practica\n",
      "-rw-rw-rw-  1 codespace codespace   2510 May 27 14:05 preprocess_data.py\n",
      "-rw-rw-rw-  1 codespace codespace   2502 May 28 15:43 register_model.py\n",
      "-rw-rw-rw-  1 codespace codespace   1001 May 28 13:37 train.py\n"
     ]
    }
   ],
   "source": [
    "!wget https://raw.githubusercontent.com/DataTalksClub/mlops-zoomcamp/main/cohorts/2024/02-experiment-tracking/homework/register_model.py\n",
    "!ls -l"
   ]
  },
  {
   "cell_type": "code",
   "execution_count": 34,
   "id": "8a602010-ba30-4a0b-98ca-15e4781a73da",
   "metadata": {},
   "outputs": [
    {
     "name": "stdout",
     "output_type": "stream",
     "text": [
      "2024/05/28 15:45:18 INFO mlflow.tracking.fluent: Experiment with name 'random-forest-best-models' does not exist. Creating a new experiment.\n",
      "2024/05/28 15:45:18 WARNING mlflow.utils.autologging_utils: You are using an unsupported version of sklearn. If you encounter errors during autologging, try upgrading / downgrading sklearn to a supported version, or try upgrading MLflow.\n",
      "2024/05/28 15:45:18 WARNING mlflow.sklearn: Failed to log training dataset information to MLflow Tracking. Reason: 'numpy.ndarray' object has no attribute 'toarray'\n",
      "2024/05/28 15:45:23 WARNING mlflow.utils.autologging_utils: MLflow autologging encountered a warning: \"/home/codespace/anaconda3/envs/mlops_2024/lib/python3.11/site-packages/_distutils_hack/__init__.py:26: UserWarning: Setuptools is replacing distutils.\"\n",
      "2024/05/28 15:45:26 WARNING mlflow.sklearn: Failed to log training dataset information to MLflow Tracking. Reason: 'numpy.ndarray' object has no attribute 'toarray'\n",
      "2024/05/28 15:45:39 WARNING mlflow.sklearn: Failed to log training dataset information to MLflow Tracking. Reason: 'numpy.ndarray' object has no attribute 'toarray'\n",
      "2024/05/28 15:45:48 WARNING mlflow.sklearn: Failed to log training dataset information to MLflow Tracking. Reason: 'numpy.ndarray' object has no attribute 'toarray'\n",
      "2024/05/28 15:45:57 WARNING mlflow.sklearn: Failed to log training dataset information to MLflow Tracking. Reason: 'numpy.ndarray' object has no attribute 'toarray'\n",
      "Successfully registered model 'ml_regressor_green_taxi_trip'.\n",
      "2024/05/28 15:46:05 INFO mlflow.store.model_registry.abstract_store: Waiting up to 300 seconds for model version to finish creation. Model name: ml_regressor_green_taxi_trip, version 1\n",
      "Created version '1' of model 'ml_regressor_green_taxi_trip'.\n"
     ]
    }
   ],
   "source": [
    "!python register_model.py"
   ]
  },
  {
   "cell_type": "code",
   "execution_count": 36,
   "id": "263eb390-2ee0-4749-8cd7-d3a4f92f6d54",
   "metadata": {},
   "outputs": [
    {
     "name": "stdout",
     "output_type": "stream",
     "text": [
      "<Experiment: artifact_location='/workspaces/mlops-zoomcamp/02-experiment-tracking/artifacts/3', creation_time=1716911118470, experiment_id='3', last_update_time=1716911118470, lifecycle_stage='active', name='random-forest-best-models', tags={}>\n",
      "\n",
      "<Experiment: artifact_location='/workspaces/mlops-zoomcamp/02-experiment-tracking/artifacts/2', creation_time=1716910749068, experiment_id='2', last_update_time=1716910749068, lifecycle_stage='active', name='random-forest-hyperopt', tags={}>\n",
      "\n",
      "<Experiment: artifact_location='mlflow-artifacts:/1', creation_time=1716910319322, experiment_id='1', last_update_time=1716910319322, lifecycle_stage='active', name='homework_2', tags={}>\n",
      "\n",
      "<Experiment: artifact_location='mlflow-artifacts:/0', creation_time=1716910191707, experiment_id='0', last_update_time=1716910191707, lifecycle_stage='active', name='Default', tags={}>\n",
      "\n"
     ]
    }
   ],
   "source": [
    "client = MlflowClient(tracking_uri=TRACKING_URI)\n",
    "\n",
    "all_experiments = client.search_experiments()\n",
    "\n",
    "for experiments in all_experiments:\n",
    "    print(experiments, end=\"\\n\\n\")"
   ]
  },
  {
   "cell_type": "code",
   "execution_count": 37,
   "id": "6909ec80-4f52-4e3d-ae63-4b104b2f6f10",
   "metadata": {},
   "outputs": [
    {
     "name": "stdout",
     "output_type": "stream",
     "text": [
      "test_rmse: 5.5674, run id: 07ac4b9435504737bf4407e3df0603ec, run name: nimble-donkey-780\n",
      "test_rmse: 5.5853, run id: bc0aa0aa834d456093d7408a6952f99a, run name: selective-rook-571\n",
      "test_rmse: 5.5895, run id: ecd6a9569b7d4d9480ae9e92a377ab78, run name: invincible-yak-504\n",
      "test_rmse: 5.5921, run id: 0810eeedda184f2a88b411b6061ea736, run name: bold-shrimp-931\n",
      "test_rmse: 5.5942, run id: 37e5afc2f4cb4442b1b8d99cb69e0f4e, run name: stately-squid-757\n"
     ]
    }
   ],
   "source": [
    "best_runs = client.search_runs(\n",
    "    experiment_ids='3',\n",
    "    filter_string=\"\",\n",
    "    run_view_type=ViewType.ACTIVE_ONLY,\n",
    "    max_results=5,\n",
    "    order_by=[\"metrics.test_rmse ASC\"]\n",
    ")\n",
    "\n",
    "for run in best_runs:\n",
    "    print(f\"test_rmse: {run.data.metrics['test_rmse']:.4f}, run id: {run.info.run_id}, run name: {run.info.run_name}\")"
   ]
  },
  {
   "cell_type": "code",
   "execution_count": 47,
   "id": "79688fda-d0f5-41bf-a98f-8d691af70929",
   "metadata": {},
   "outputs": [
    {
     "name": "stdout",
     "output_type": "stream",
     "text": [
      "version: 1 \n",
      "\tstage: None, source /workspaces/mlops-zoomcamp/02-experiment-tracking/artifacts/3/07ac4b9435504737bf4407e3df0603ec/artifacts/model, rund id 07ac4b9435504737bf4407e3df0603ec\n"
     ]
    }
   ],
   "source": [
    "model_name = 'ml_regressor_green_taxi_trip'\n",
    "versions = client.search_model_versions(f\"name='{model_name}'\")\n",
    "\n",
    "for version in versions:\n",
    "    print(f\"version: {version.version} \\n\\tstage: {version.current_stage}, source {version.source}, rund id {version.run_id}\")"
   ]
  }
 ],
 "metadata": {
  "kernelspec": {
   "display_name": "Python 3 (ipykernel)",
   "language": "python",
   "name": "python3"
  },
  "language_info": {
   "codemirror_mode": {
    "name": "ipython",
    "version": 3
   },
   "file_extension": ".py",
   "mimetype": "text/x-python",
   "name": "python",
   "nbconvert_exporter": "python",
   "pygments_lexer": "ipython3",
   "version": "3.11.7"
  }
 },
 "nbformat": 4,
 "nbformat_minor": 5
}
